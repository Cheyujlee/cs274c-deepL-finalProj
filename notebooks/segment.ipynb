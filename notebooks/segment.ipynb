{
 "cells": [
  {
   "cell_type": "code",
   "execution_count": 1,
   "id": "64eb93f0-b387-4282-a6a2-2cf51d0d7128",
   "metadata": {},
   "outputs": [],
   "source": [
    "import scipy.io\n",
    "import numpy as np"
   ]
  },
  {
   "cell_type": "code",
   "execution_count": 2,
   "id": "3731eea3-2564-4c79-8d9b-d15ef1227f95",
   "metadata": {},
   "outputs": [],
   "source": [
    "# mat = scipy.io.loadmat('2015_BOE_Chiu/2015_BOE_Chiu/Subject_01.mat')\n",
    "mat = scipy.io.loadmat('./archive_1/AMD_2/AMD_2/Farsiu_Ophthalmology_2013_AMD_Subject_1001.mat')"
   ]
  },
  {
   "cell_type": "code",
   "execution_count": 3,
   "id": "bf8d1e04-f5ac-4a3e-b58c-946fefde6f4d",
   "metadata": {},
   "outputs": [
    {
     "data": {
      "text/plain": [
       "{'__header__': b'MATLAB 5.0 MAT-file, Platform: PCWIN64, Created on: Tue Jul 09 11:47:32 2013',\n",
       " '__version__': '1.0',\n",
       " '__globals__': [],\n",
       " 'images': array([[[174, 189,  67, ..., 162,  81,  91],\n",
       "         [171, 195,   7, ..., 154,  96,  86],\n",
       "         [168, 193,  92, ..., 156,  79,  81],\n",
       "         ...,\n",
       "         [157, 161,  54, ..., 153,   0, 186],\n",
       "         [145, 170, 108, ..., 152,  89, 187],\n",
       "         [148, 166,  81, ..., 151,  82, 189]],\n",
       " \n",
       "        [[170, 203,  81, ..., 168, 136,  66],\n",
       "         [164, 204,  53, ..., 175,  87,  79],\n",
       "         [164, 204,  84, ..., 173,  98,  69],\n",
       "         ...,\n",
       "         [179, 164,  98, ..., 171,  78, 204],\n",
       "         [177, 171,  77, ..., 147,  95, 203],\n",
       "         [176, 171,  23, ..., 154,   0, 205]],\n",
       " \n",
       "        [[162, 209, 114, ..., 166, 146,  72],\n",
       "         [159, 209,  47, ..., 176, 154,  76],\n",
       "         [155, 207,  68, ..., 166, 141,  86],\n",
       "         ...,\n",
       "         [186, 161,  82, ..., 165,  55, 204],\n",
       "         [180, 165,  22, ..., 163, 126, 202],\n",
       "         [180, 158,  50, ..., 147,  46, 207]],\n",
       " \n",
       "        ...,\n",
       " \n",
       "        [[ 38,   0,  85, ...,  19,  64,  57],\n",
       "         [  4,  82,  21, ...,  60,  63, 100],\n",
       "         [ 48,  51,  56, ...,  75, 101,  29],\n",
       "         ...,\n",
       "         [ 69,  66,   0, ...,  79,  82,  71],\n",
       "         [103,  67,  89, ...,  90,  86,  87],\n",
       "         [ 64,  12,  68, ...,  81,   0,  17]],\n",
       " \n",
       "        [[ 32,   0,   0, ...,  20,  49,  60],\n",
       "         [ 75,  16,  96, ...,  40,   0,  78],\n",
       "         [ 75,   7, 100, ...,  50,  53,  80],\n",
       "         ...,\n",
       "         [108,  69,   0, ...,   0,  12,  78],\n",
       "         [122,  90,  45, ...,  86,  21,  57],\n",
       "         [ 69,   0,  59, ...,   0,  50,  66]],\n",
       " \n",
       "        [[ 56,  62,  83, ...,  42,  64,   0],\n",
       "         [ 91,  70, 100, ...,   0,  36,  51],\n",
       "         [ 89,  51,   0, ...,   0,   0,  33],\n",
       "         ...,\n",
       "         [ 35,  27,  51, ...,  70,  82,  68],\n",
       "         [101,   0,  57, ...,  91,  56,  68],\n",
       "         [108,  58,  58, ..., 101,  72,  50]]], dtype=uint8),\n",
       " 'layerMaps': array([[[nan, nan, nan],\n",
       "         [nan, nan, nan],\n",
       "         [nan, nan, nan],\n",
       "         ...,\n",
       "         [nan, nan, nan],\n",
       "         [nan, nan, nan],\n",
       "         [nan, nan, nan]],\n",
       " \n",
       "        [[nan, nan, nan],\n",
       "         [nan, nan, nan],\n",
       "         [nan, nan, nan],\n",
       "         ...,\n",
       "         [nan, nan, nan],\n",
       "         [nan, nan, nan],\n",
       "         [nan, nan, nan]],\n",
       " \n",
       "        [[nan, nan, nan],\n",
       "         [nan, nan, nan],\n",
       "         [nan, nan, nan],\n",
       "         ...,\n",
       "         [nan, nan, nan],\n",
       "         [nan, nan, nan],\n",
       "         [nan, nan, nan]],\n",
       " \n",
       "        ...,\n",
       " \n",
       "        [[nan, nan, nan],\n",
       "         [nan, nan, nan],\n",
       "         [nan, nan, nan],\n",
       "         ...,\n",
       "         [nan, nan, nan],\n",
       "         [nan, nan, nan],\n",
       "         [nan, nan, nan]],\n",
       " \n",
       "        [[nan, nan, nan],\n",
       "         [nan, nan, nan],\n",
       "         [nan, nan, nan],\n",
       "         ...,\n",
       "         [nan, nan, nan],\n",
       "         [nan, nan, nan],\n",
       "         [nan, nan, nan]],\n",
       " \n",
       "        [[nan, nan, nan],\n",
       "         [nan, nan, nan],\n",
       "         [nan, nan, nan],\n",
       "         ...,\n",
       "         [nan, nan, nan],\n",
       "         [nan, nan, nan],\n",
       "         [nan, nan, nan]]]),\n",
       " 'Age': array([[78]], dtype=uint8)}"
      ]
     },
     "execution_count": 3,
     "metadata": {},
     "output_type": "execute_result"
    }
   ],
   "source": [
    "mat"
   ]
  },
  {
   "cell_type": "code",
   "execution_count": 4,
   "id": "b804ccab-28cb-408d-9e17-416784464d36",
   "metadata": {},
   "outputs": [],
   "source": [
    "# mask = np.logical_not(np.isnan( mat['automaticLayersDME']))\n",
    "mask = np.logical_not(np.isnan( mat['layerMaps']))"
   ]
  },
  {
   "cell_type": "code",
   "execution_count": 7,
   "id": "bcfa282f-9dde-467c-a5c8-ac15e706132f",
   "metadata": {},
   "outputs": [
    {
     "data": {
      "text/plain": [
       "array([ 70., 146., 154., ...,  63., 147., 153.])"
      ]
     },
     "execution_count": 7,
     "metadata": {},
     "output_type": "execute_result"
    }
   ],
   "source": [
    "# mat['automaticLayersDME'][mask]\n",
    "mat['layerMaps'][mask]"
   ]
  },
  {
   "cell_type": "code",
   "execution_count": 18,
   "id": "72070781-9e3c-4cd0-aea4-5a01c281a965",
   "metadata": {},
   "outputs": [
    {
     "name": "stdout",
     "output_type": "stream",
     "text": [
      "(46294,)\n",
      "(8, 768, 61)\n"
     ]
    }
   ],
   "source": [
    "mask = np.logical_not(np.isnan( mat['manualLayers1']))\n",
    "print(mat['manualLayers1'][mask].shape)\n",
    "print(mat['manualLayers1'].shape)"
   ]
  },
  {
   "cell_type": "code",
   "execution_count": 19,
   "id": "f5519e81-e48a-4888-9bf4-3c0449b449d2",
   "metadata": {},
   "outputs": [
    {
     "name": "stdout",
     "output_type": "stream",
     "text": [
      "(46110,)\n",
      "(8, 768, 61)\n"
     ]
    }
   ],
   "source": [
    "mask = np.logical_not(np.isnan( mat['manualLayers2']))\n",
    "print(mat['manualLayers2'][mask].shape)\n",
    "print(mat['manualLayers2'].shape)"
   ]
  },
  {
   "cell_type": "code",
   "execution_count": 17,
   "id": "cf27da7b-bb81-4ed2-97c4-cba1f3dba3d1",
   "metadata": {},
   "outputs": [
    {
     "name": "stdout",
     "output_type": "stream",
     "text": [
      "(496, 768, 61)\n"
     ]
    }
   ],
   "source": [
    "print(mat['images'].shape)"
   ]
  },
  {
   "cell_type": "code",
   "execution_count": 21,
   "id": "33d60391-372e-425b-8ae7-120426c9dcf3",
   "metadata": {},
   "outputs": [
    {
     "data": {
      "text/plain": [
       "array([[255, 255, 255, ..., 255, 255, 255],\n",
       "       [255, 255, 255, ..., 255, 255, 255],\n",
       "       [255, 255, 255, ..., 255, 255, 255],\n",
       "       ...,\n",
       "       [255, 255, 255, ..., 255, 255, 255],\n",
       "       [255, 255, 255, ..., 255, 255, 255],\n",
       "       [255, 255, 255, ..., 255, 255, 255]], dtype=uint8)"
      ]
     },
     "execution_count": 21,
     "metadata": {},
     "output_type": "execute_result"
    }
   ],
   "source": [
    "mat['images'][0, :, :]"
   ]
  },
  {
   "cell_type": "code",
   "execution_count": 23,
   "id": "5d1dfd10-35bb-478b-b1f4-371f42f8d256",
   "metadata": {},
   "outputs": [
    {
     "data": {
      "text/plain": [
       "array([[255, 255, 255, ..., 255, 255, 255],\n",
       "       [255, 255, 255, ..., 255, 255, 255],\n",
       "       [255, 255, 255, ..., 255, 255, 255],\n",
       "       ...,\n",
       "       [ 27,  18,  18, ...,   0, 255, 255],\n",
       "       [  0,  21,   0, ...,   0, 255, 255],\n",
       "       [  0,  22,   0, ...,   0, 255, 255]], dtype=uint8)"
      ]
     },
     "execution_count": 23,
     "metadata": {},
     "output_type": "execute_result"
    }
   ],
   "source": [
    "mat['images'][:, 0, :]"
   ]
  },
  {
   "cell_type": "code",
   "execution_count": null,
   "id": "88212469-c606-4ab4-891b-94d99ab32a37",
   "metadata": {},
   "outputs": [],
   "source": []
  }
 ],
 "metadata": {
  "kernelspec": {
   "display_name": "Python 3 (ipykernel)",
   "language": "python",
   "name": "python3"
  },
  "language_info": {
   "codemirror_mode": {
    "name": "ipython",
    "version": 3
   },
   "file_extension": ".py",
   "mimetype": "text/x-python",
   "name": "python",
   "nbconvert_exporter": "python",
   "pygments_lexer": "ipython3",
   "version": "3.8.15"
  }
 },
 "nbformat": 4,
 "nbformat_minor": 5
}
