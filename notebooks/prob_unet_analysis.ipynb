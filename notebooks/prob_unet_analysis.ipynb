{
 "cells": [
  {
   "cell_type": "code",
   "execution_count": 1,
   "metadata": {},
   "outputs": [
    {
     "name": "stderr",
     "output_type": "stream",
     "text": [
      "/home/junhal11/miniconda3/envs/pgm/lib/python3.9/site-packages/tqdm/auto.py:21: TqdmWarning: IProgress not found. Please update jupyter and ipywidgets. See https://ipywidgets.readthedocs.io/en/stable/user_install.html\n",
      "  from .autonotebook import tqdm as notebook_tqdm\n"
     ]
    }
   ],
   "source": [
    "# This Python 3 environment comes with many helpful analytics libraries installed\n",
    "# It is defined by the kaggle/python docker image: https://github.com/kaggle/docker-python\n",
    "# For example, here's several helpful packages to load in \n",
    "\n",
    "import torch\n",
    "import numpy as np # linear algebra\n",
    "import os\n",
    "import numpy as np\n",
    "import matplotlib.pyplot as plt\n",
    "from tqdm import tqdm\n"
   ]
  },
  {
   "cell_type": "code",
   "execution_count": 2,
   "metadata": {},
   "outputs": [],
   "source": [
    "def plot_sample_examples(datax, datay, mean_y, sample_ys):\n",
    "    image_num = len(sample_ys) + 3\n",
    "    fig, ax = plt.subplots(nrows=1, ncols=image_num, figsize=(4 * image_num, 4))\n",
    "    \n",
    "    ax[0].imshow(np.transpose(datax, (1, 2, 0))[:, :, 0])\n",
    "    ax[0].set_title(\"Orignal Image\")\n",
    "    ax[1].imshow(np.transpose(datay, (1, 2, 0))[:, :, 0])\n",
    "    ax[1].set_title(\"Target Image\")\n",
    "    \n",
    "    mean_y = np.argmax(mean_y, axis=0, keepdims=True)\n",
    "    ax[2].imshow(np.transpose(mean_y, (1, 2, 0))[:, :, 0])\n",
    "    ax[2].set_title(\"Mean Segmented Image\")\n",
    "    for i, sample_y in enumerate(sample_ys, 1):\n",
    "        sample_y = np.argmax(sample_y, axis=0, keepdims=True)\n",
    "        ax[i + 2].imshow(np.transpose(sample_y, (1, 2, 0))[:, :, 0])\n",
    "        ax[i + 2].set_title(f\"Sampling Segmented Image {i}\")\n",
    "    return fig, ax"
   ]
  },
  {
   "cell_type": "code",
   "execution_count": 8,
   "metadata": {},
   "outputs": [],
   "source": [
    "checkpoint = 'output/segmentation/prob_unet/sample-2023-05-27-16-27-30'\n",
    "train_samplings = torch.load(\n",
    "    f'../{checkpoint}/train_samplings.pth',\n",
    "    map_location=torch.device('cpu')\n",
    ")"
   ]
  },
  {
   "cell_type": "code",
   "execution_count": 9,
   "metadata": {},
   "outputs": [],
   "source": [
    "for index in range(len(train_samplings['x'])):\n",
    "    fig, _ = plot_sample_examples(\n",
    "        train_samplings['x'][index].squeeze(0).numpy(),\n",
    "        train_samplings['y_true'][index].squeeze(0).numpy(),\n",
    "        train_samplings['y_pred'][index]['mean_pred'].squeeze(0).numpy(),\n",
    "        [i.squeeze(0).numpy() for i in train_samplings['y_pred'][index]['sampling_pred']]\n",
    "    )\n",
    "    fig.savefig(f'../{checkpoint}/images/train_samplings_{index}.png')\n",
    "    plt.close()"
   ]
  },
  {
   "cell_type": "code",
   "execution_count": null,
   "metadata": {},
   "outputs": [],
   "source": []
  }
 ],
 "metadata": {
  "kernelspec": {
   "display_name": "pgm",
   "language": "python",
   "name": "python3"
  },
  "language_info": {
   "codemirror_mode": {
    "name": "ipython",
    "version": 3
   },
   "file_extension": ".py",
   "mimetype": "text/x-python",
   "name": "python",
   "nbconvert_exporter": "python",
   "pygments_lexer": "ipython3",
   "version": "3.9.16"
  },
  "orig_nbformat": 4
 },
 "nbformat": 4,
 "nbformat_minor": 2
}
