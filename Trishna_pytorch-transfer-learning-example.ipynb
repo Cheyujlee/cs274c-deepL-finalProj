{
 "cells": [
  {
   "cell_type": "markdown",
   "id": "b5d3a25f",
   "metadata": {
    "papermill": {
     "duration": 0.009706,
     "end_time": "2023-05-07T23:26:54.971647",
     "exception": false,
     "start_time": "2023-05-07T23:26:54.961941",
     "status": "completed"
    },
    "tags": []
   },
   "source": [
    "# <a id='toc1_'></a>[Using pretrained models to classify retinal damage from OCT Scans](#toc0_)"
   ]
  },
  {
   "cell_type": "markdown",
   "id": "9df74544",
   "metadata": {
    "papermill": {
     "duration": 0.008958,
     "end_time": "2023-05-07T23:26:54.999125",
     "exception": false,
     "start_time": "2023-05-07T23:26:54.990167",
     "status": "completed"
    },
    "tags": []
   },
   "source": [
    "This notebook is inspired by these pages:\n",
    "\n",
    "- [VGG11 Transfer Learning \\- Pytorch \\| Kaggle](https://www.kaggle.com/code/carloalbertobarbano/vgg11-transfer-learning-pytorch)\n",
    "- [IgorSusmelj/pytorch\\-styleguide: An unofficial styleguide and best practices summary for PyTorch](https://github.com/IgorSusmelj/pytorch-styleguide)"
   ]
  },
  {
   "cell_type": "markdown",
   "id": "7c7c2231",
   "metadata": {
    "papermill": {
     "duration": 0.008692,
     "end_time": "2023-05-07T23:26:55.016912",
     "exception": false,
     "start_time": "2023-05-07T23:26:55.008220",
     "status": "completed"
    },
    "tags": []
   },
   "source": [
    "# **Table of contents**<a id='toc0_'></a>    \n",
    "\n",
    "- [Using pretrained models to classify retinal damage from OCT Scans](#toc1_)    \n",
    "  - [Table of Contents](#toc1_1_)    \n",
    "- [Import and Settings](#toc2_)    \n",
    "- [Prepare Data](#toc3_)    \n",
    "  - [Setting data directory](#toc3_1_)    \n",
    "  - [Setting transforms](#toc3_2_)    \n",
    "  - [Setting datasets and dataloaders](#toc3_3_)    \n",
    "- [Evaluation Tools](#toc4_)    \n",
    "- [Model Creation](#toc5_)    \n",
    "  - [Model Summaries](#toc5_1_)    \n",
    "- [Evaluation before training](#toc6_)    \n",
    "- [Training](#toc7_)    \n",
    "  - [VGG11](#toc7_1_)    \n",
    "  - [ResNet34](#toc7_2_)    \n",
    "  - [EfficientNet](#toc7_3_)    \n",
    "- [Evaluation after training](#toc8_)    \n",
    "- [Summary](#toc9_)    "
   ]
  },
  {
   "cell_type": "markdown",
   "id": "7386af8b",
   "metadata": {
    "papermill": {
     "duration": 0.008915,
     "end_time": "2023-05-07T23:26:55.035119",
     "exception": false,
     "start_time": "2023-05-07T23:26:55.026204",
     "status": "completed"
    },
    "tags": []
   },
   "source": [
    "# <a id='toc2_'></a>[Import and Settings](#toc0_)"
   ]
  },
  {
   "cell_type": "code",
   "execution_count": 1,
   "id": "e8728277",
   "metadata": {
    "_cell_guid": "0e05b5f8-fc51-404d-a9d2-5197aa283b73",
    "_uuid": "76fd0ec2a5eb7fbe49b51147eabbd109c61279c0",
    "execution": {
     "iopub.execute_input": "2023-05-07T23:26:55.055726Z",
     "iopub.status.busy": "2023-05-07T23:26:55.055292Z",
     "iopub.status.idle": "2023-05-07T23:27:03.180465Z",
     "shell.execute_reply": "2023-05-07T23:27:03.178904Z"
    },
    "papermill": {
     "duration": 8.137879,
     "end_time": "2023-05-07T23:27:03.182654",
     "exception": false,
     "start_time": "2023-05-07T23:26:55.044775",
     "status": "completed"
    },
    "tags": []
   },
   "outputs": [
    {
     "name": "stderr",
     "output_type": "stream",
     "text": [
      "/opt/conda/lib/python3.10/site-packages/scipy/__init__.py:146: UserWarning: A NumPy version >=1.16.5 and <1.23.0 is required for this version of SciPy (detected version 1.23.5\n",
      "  warnings.warn(f\"A NumPy version >={np_minversion} and <{np_maxversion}\"\n"
     ]
    },
    {
     "name": "stdout",
     "output_type": "stream",
     "text": [
      "Using CUDA\n"
     ]
    }
   ],
   "source": [
    "from __future__ import print_function, division\n",
    "\n",
    "import torch\n",
    "import torch.nn as nn\n",
    "import torch.optim as optim\n",
    "from torch.optim import lr_scheduler\n",
    "from torch.autograd import Variable\n",
    "import numpy as np\n",
    "import pandas as pd\n",
    "from tqdm import tqdm\n",
    "import torchvision\n",
    "from torchvision import datasets, models, transforms\n",
    "from torchinfo import summary\n",
    "import matplotlib.pyplot as plt\n",
    "import time\n",
    "import os\n",
    "import copy\n",
    "from pathlib import Path\n",
    "from sklearn.utils import Bunch\n",
    "\n",
    "plt.ion()  \n",
    "\n",
    "use_gpu = torch.cuda.is_available()\n",
    "if use_gpu:\n",
    "    print(\"Using CUDA\")"
   ]
  },
  {
   "cell_type": "markdown",
   "id": "3509d1f6",
   "metadata": {
    "papermill": {
     "duration": 0.009574,
     "end_time": "2023-05-07T23:27:03.201916",
     "exception": false,
     "start_time": "2023-05-07T23:27:03.192342",
     "status": "completed"
    },
    "tags": []
   },
   "source": [
    "- `torch.backends.cudnn.benchmark = True` enables cudnn auto-tuner to find the best algorithm to use for your hardware configuration\n",
    "- `np.random.seed(1)` sets the seed of the NumPy pseudo-random number generator to 1, which allows to repdoduce the same sequences of random numbers across runs.\n",
    "- `torch.manual_seed(1)` sets the seed for generating random tensors in the CPU by PyTorch.\n",
    "- `torch.cuda.manual_seed(1)` sets the seed for generating random tensors in the GPU by PyTorch."
   ]
  },
  {
   "cell_type": "code",
   "execution_count": 2,
   "id": "cd4ef68f",
   "metadata": {
    "execution": {
     "iopub.execute_input": "2023-05-07T23:27:03.222498Z",
     "iopub.status.busy": "2023-05-07T23:27:03.221488Z",
     "iopub.status.idle": "2023-05-07T23:27:03.235949Z",
     "shell.execute_reply": "2023-05-07T23:27:03.235110Z"
    },
    "papermill": {
     "duration": 0.026755,
     "end_time": "2023-05-07T23:27:03.237935",
     "exception": false,
     "start_time": "2023-05-07T23:27:03.211180",
     "status": "completed"
    },
    "tags": []
   },
   "outputs": [],
   "source": [
    "# set flags / seeds\n",
    "torch.backends.cudnn.benchmark = True\n",
    "np.random.seed(1)\n",
    "torch.manual_seed(1)\n",
    "torch.cuda.manual_seed(1)"
   ]
  },
  {
   "cell_type": "markdown",
   "id": "f77f7059",
   "metadata": {
    "papermill": {
     "duration": 0.008968,
     "end_time": "2023-05-07T23:27:03.256237",
     "exception": false,
     "start_time": "2023-05-07T23:27:03.247269",
     "status": "completed"
    },
    "tags": []
   },
   "source": [
    "# <a id='toc3_'></a>[Prepare Data](#toc0_)\n",
    "\n",
    "In the below, I define `DataModule` that holds datasets and dataloaders."
   ]
  },
  {
   "cell_type": "markdown",
   "id": "43a9c46b",
   "metadata": {
    "papermill": {
     "duration": 0.0089,
     "end_time": "2023-05-07T23:27:03.274488",
     "exception": false,
     "start_time": "2023-05-07T23:27:03.265588",
     "status": "completed"
    },
    "tags": []
   },
   "source": [
    "## <a id='toc3_1_'></a>[Setting data directory](#toc0_)\n",
    "\n",
    "``` python\n",
    "    def __init__(self):\n",
    "        # setting data directory\n",
    "        self.data_dir = '../input/kermany2018/oct2017/OCT2017 '\n",
    "        self.split_names = [\"train\", \"val\", \"test\"]\n",
    "        ...\n",
    "```\n",
    "\n",
    "\n",
    "- `self.data_dir` holds a path to the data directory.\n",
    "- `self.split_names` hold string values for three different subsets of data."
   ]
  },
  {
   "cell_type": "markdown",
   "id": "b0205a1f",
   "metadata": {
    "papermill": {
     "duration": 0.00895,
     "end_time": "2023-05-07T23:27:03.292734",
     "exception": false,
     "start_time": "2023-05-07T23:27:03.283784",
     "status": "completed"
    },
    "tags": []
   },
   "source": [
    "## <a id='toc3_2_'></a>[Setting transforms](#toc0_)\n",
    "\n",
    "``` python\n",
    "    def __init__(self):\n",
    "        ...\n",
    "\n",
    "        # setting data transforms\n",
    "        self.data_transforms = self._get_transforms()\n",
    "\n",
    "        ...\n",
    "\n",
    "    def _get_transforms(self):\n",
    "        # VGG-16 Takes 224x224 images as input, so we resize all of them\n",
    "        data_transforms = {\n",
    "            # train\n",
    "            self.split_names[0]: transforms.Compose([\n",
    "                transforms.RandomResizedCrop(224),\n",
    "                transforms.RandomHorizontalFlip(),\n",
    "                transforms.ToTensor(),\n",
    "            ]),\n",
    "            # val\n",
    "            self.split_names[1]: transforms.Compose([\n",
    "                transforms.Resize(256),\n",
    "                transforms.CenterCrop(224),\n",
    "                transforms.ToTensor(),\n",
    "            ]),\n",
    "            # test\n",
    "            self.split_names[2]: transforms.Compose([\n",
    "                transforms.Resize(256),\n",
    "                transforms.CenterCrop(224),\n",
    "                transforms.ToTensor(),\n",
    "            ])\n",
    "        }\n",
    "        \n",
    "        # extend dictionaries by enabling values to be accessed by both key and attribute\n",
    "        data_transforms = Bunch(**data_transforms)\n",
    "        \n",
    "        return data_transforms\n",
    "```\n",
    "\n",
    "For train:\n",
    "\n",
    "- augmenting by randomly cropping and flipping the images to improve the model's ability to generalize to new data\n",
    "- converting images to pytorch tensors\n",
    "\n",
    "For val and test:\n",
    "\n",
    "- resizing the images to 224x224 pixels to fit the VGG input size\n",
    "- converting images to pytorch tensors\n",
    "\n",
    "Finally I convert data_transforms to in the form of [sklearn\\.utils\\.Bunch](https://scikit-learn.org/stable/modules/generated/sklearn.utils.Bunch.html) to be easily accessible by attribute."
   ]
  },
  {
   "cell_type": "markdown",
   "id": "238563a7",
   "metadata": {
    "papermill": {
     "duration": 0.009096,
     "end_time": "2023-05-07T23:27:03.311217",
     "exception": false,
     "start_time": "2023-05-07T23:27:03.302121",
     "status": "completed"
    },
    "tags": []
   },
   "source": [
    "## <a id='toc3_3_'></a>[Setting datasets and dataloaders](#toc0_)\n",
    "\n",
    "``` python\n",
    "    def __init__(self):\n",
    "        ...\n",
    "        \n",
    "        # setting datasets\n",
    "        self.datasets = self._get_datasets()\n",
    "        \n",
    "        # setting dataloaders\n",
    "        self.dataloaders = self._get_dataloaders()\n",
    "\n",
    "        ...\n",
    "\n",
    "    def _get_datasets(self):\n",
    "        print(\"Preparing datasets ...\")\n",
    "        image_datasets = {\n",
    "            x: datasets.ImageFolder(\n",
    "                os.path.join(self.data_dir, x), \n",
    "                transform=self.data_transforms[x]\n",
    "            )\n",
    "            for x in self.split_names\n",
    "        }\n",
    "        print(\"Done!\")\n",
    "        \n",
    "        # extend dictionaries by enabling values to be accessed by both key and attribute\n",
    "        image_datasets = Bunch(**image_datasets)\n",
    "        \n",
    "        return image_datasets\n",
    "    \n",
    "    def _get_dataloaders(self):\n",
    "        dataloaders = {\n",
    "            x: torch.utils.data.DataLoader(\n",
    "                self.datasets[x], batch_size=32,\n",
    "                shuffle=True, num_workers=2\n",
    "            )\n",
    "            for x in self.split_names\n",
    "        }\n",
    "        \n",
    "        # extend dictionaries by enabling values to be accessed by both key and attribute\n",
    "        dataloaders = Bunch(**dataloaders)\n",
    "        \n",
    "        return dataloaders\n",
    "```\n",
    "\n",
    "- datasets\n",
    "    - `datasets.ImageFolder()` expects a directory containing subdirectories of images (one subdirectory per class), and creates a dataset where each image is paired with its corresponding label.\n",
    "    - `transform` argument is passed to specify image transformations to be applied defined above.\n",
    "    - The three datasets (TRAIN, VAL and TEST) are stored in a dictionary.\n",
    "- dataloaders\n",
    "    - For each dataset, we creates a data loader by passing the corresponding `Dataset` object.\n",
    "    - `shuffle` parameter is set to `True` to shuffle the elements in each batch.\n",
    "    - `num_workers` is set to 2 to use 2 subprocesses to load in the background.\n",
    "    - The three dataloaders (TRAIN, VAL and TEST) are stored in a dictionary.\n",
    "- Finally we store the sizes of the three datasets in a dictionary `dataset_sizes`."
   ]
  },
  {
   "cell_type": "code",
   "execution_count": 3,
   "id": "5a100606",
   "metadata": {
    "execution": {
     "iopub.execute_input": "2023-05-07T23:27:03.331981Z",
     "iopub.status.busy": "2023-05-07T23:27:03.331673Z",
     "iopub.status.idle": "2023-05-07T23:27:03.342140Z",
     "shell.execute_reply": "2023-05-07T23:27:03.341106Z"
    },
    "papermill": {
     "duration": 0.022974,
     "end_time": "2023-05-07T23:27:03.344230",
     "exception": false,
     "start_time": "2023-05-07T23:27:03.321256",
     "status": "completed"
    },
    "tags": []
   },
   "outputs": [],
   "source": [
    "class DataModule():\n",
    "    def __init__(self):\n",
    "        # setting data directory\n",
    "        self.data_dir = '../input/kermany2018/oct2017/OCT2017 '\n",
    "        self.split_names = [\"train\", \"val\", \"test\"]\n",
    "        \n",
    "        # setting data transforms\n",
    "        self.data_transforms = self._get_transforms()\n",
    "        \n",
    "        # setting datasets\n",
    "        self.datasets = self._get_datasets()\n",
    "        \n",
    "        # setting dataloaders\n",
    "        self.dataloaders = self._get_dataloaders()\n",
    "        \n",
    "        # setting dataset sizes\n",
    "        dataset_sizes = {x: len(self.datasets[x]) for x in self.split_names}\n",
    "        self.dataset_sizes = Bunch(**dataset_sizes)\n",
    "        \n",
    "        \n",
    "    def _get_transforms(self):\n",
    "        # VGG-16 Takes 224x224 images as input, so we resize all of them\n",
    "        data_transforms = {\n",
    "            # train\n",
    "            self.split_names[0]: transforms.Compose([\n",
    "                transforms.RandomResizedCrop(224),\n",
    "                transforms.RandomHorizontalFlip(),\n",
    "                transforms.ToTensor(),\n",
    "            ]),\n",
    "            # val\n",
    "            self.split_names[1]: transforms.Compose([\n",
    "                transforms.Resize(256),\n",
    "                transforms.CenterCrop(224),\n",
    "                transforms.ToTensor(),\n",
    "            ]),\n",
    "            # test\n",
    "            self.split_names[2]: transforms.Compose([\n",
    "                transforms.Resize(256),\n",
    "                transforms.CenterCrop(224),\n",
    "                transforms.ToTensor(),\n",
    "            ])\n",
    "        }\n",
    "        \n",
    "        # extend dictionaries by enabling values to be accessed by both key and attribute\n",
    "        data_transforms = Bunch(**data_transforms)\n",
    "        \n",
    "        return data_transforms\n",
    "    \n",
    "    def _get_datasets(self):\n",
    "        print(\"Preparing datasets ...\")\n",
    "        image_datasets = {\n",
    "            x: datasets.ImageFolder(\n",
    "                os.path.join(self.data_dir, x), \n",
    "                transform=self.data_transforms[x]\n",
    "            )\n",
    "            for x in self.split_names\n",
    "        }\n",
    "        print(\"Done!\")\n",
    "        \n",
    "        # extend dictionaries by enabling values to be accessed by both key and attribute\n",
    "        image_datasets = Bunch(**image_datasets)\n",
    "        \n",
    "        return image_datasets\n",
    "    \n",
    "    def _get_dataloaders(self):\n",
    "        dataloaders = {\n",
    "            x: torch.utils.data.DataLoader(\n",
    "                self.datasets[x], batch_size=32,\n",
    "                shuffle=True, num_workers=2\n",
    "            )\n",
    "            for x in self.split_names\n",
    "        }\n",
    "        \n",
    "        # extend dictionaries by enabling values to be accessed by both key and attribute\n",
    "        dataloaders = Bunch(**dataloaders)\n",
    "        \n",
    "        return dataloaders"
   ]
  },
  {
   "cell_type": "markdown",
   "id": "e1478765",
   "metadata": {
    "papermill": {
     "duration": 0.008653,
     "end_time": "2023-05-07T23:27:03.361882",
     "exception": false,
     "start_time": "2023-05-07T23:27:03.353229",
     "status": "completed"
    },
    "tags": []
   },
   "source": [
    "Let's check it out!"
   ]
  },
  {
   "cell_type": "code",
   "execution_count": 4,
   "id": "9a19f30c",
   "metadata": {
    "execution": {
     "iopub.execute_input": "2023-05-07T23:27:03.381485Z",
     "iopub.status.busy": "2023-05-07T23:27:03.380661Z",
     "iopub.status.idle": "2023-05-07T23:28:16.719620Z",
     "shell.execute_reply": "2023-05-07T23:28:16.718529Z"
    },
    "papermill": {
     "duration": 73.361435,
     "end_time": "2023-05-07T23:28:16.732240",
     "exception": false,
     "start_time": "2023-05-07T23:27:03.370805",
     "status": "completed"
    },
    "tags": []
   },
   "outputs": [
    {
     "name": "stdout",
     "output_type": "stream",
     "text": [
      "Preparing datasets ...\n",
      "Done!\n",
      "Loaded 83484 images under train\n",
      "Loaded 32 images under val\n",
      "Loaded 968 images under test\n",
      "\n",
      "Classes: \n",
      "['CNV', 'DME', 'DRUSEN', 'NORMAL']\n"
     ]
    }
   ],
   "source": [
    "datamodule = DataModule()\n",
    "\n",
    "# checking data sizes\n",
    "for split, size in datamodule.dataset_sizes.items():\n",
    "    print(f\"Loaded {size} images under {split}\")\n",
    "\n",
    "# checking what classes are in the dataset\n",
    "print()\n",
    "print(\"Classes: \")\n",
    "print(datamodule.datasets.train.classes)"
   ]
  },
  {
   "cell_type": "markdown",
   "id": "7daea582",
   "metadata": {
    "papermill": {
     "duration": 0.009963,
     "end_time": "2023-05-07T23:28:16.752786",
     "exception": false,
     "start_time": "2023-05-07T23:28:16.742823",
     "status": "completed"
    },
    "tags": []
   },
   "source": [
    "# <a id='toc4_'></a>[Evaluation Tools](#toc0_)\n",
    "\n",
    "In here I define a class `EvaluationTools` that has 4 main methods:\n",
    "\n",
    "- `show_databatch`\n",
    "- `visualize_model`\n",
    "- `eval_model`\n",
    "- `model_summary`"
   ]
  },
  {
   "cell_type": "code",
   "execution_count": 5,
   "id": "6b914a98",
   "metadata": {
    "execution": {
     "iopub.execute_input": "2023-05-07T23:28:16.773143Z",
     "iopub.status.busy": "2023-05-07T23:28:16.772831Z",
     "iopub.status.idle": "2023-05-07T23:28:16.792638Z",
     "shell.execute_reply": "2023-05-07T23:28:16.791797Z"
    },
    "papermill": {
     "duration": 0.032566,
     "end_time": "2023-05-07T23:28:16.794566",
     "exception": false,
     "start_time": "2023-05-07T23:28:16.762000",
     "status": "completed"
    },
    "tags": []
   },
   "outputs": [],
   "source": [
    "class EvaluationTools():\n",
    "    def __init__(\n",
    "        self,\n",
    "        model = None,\n",
    "        dataloader = None,\n",
    "        class_names = None,\n",
    "        criterion = None,\n",
    "    ):\n",
    "        self.model = model\n",
    "        self.dataloader = dataloader\n",
    "        self.class_names = class_names\n",
    "        self.criterion = criterion\n",
    "    \n",
    "    def imshow(self, inp, title=None):\n",
    "        inp = inp.numpy().transpose((1, 2, 0))\n",
    "        plt.axis('off')\n",
    "        plt.imshow(inp)\n",
    "        if title is not None:\n",
    "            plt.title(title)\n",
    "        plt.pause(0.001)\n",
    "        \n",
    "    def show_databatch(self, num_images=None):\n",
    "        inputs, classes = next(iter(self.dataloader))\n",
    "        \n",
    "        if num_images is not None:\n",
    "            inputs = inputs[:num_images]\n",
    "            classes = classes[:num_images]\n",
    "        \n",
    "        self._show_databatch(inputs, classes, self.class_names)\n",
    "        \n",
    "    def visualize_model(self, num_images=6):\n",
    "        self._visualize_model(self.model, self.dataloader, num_images=num_images)\n",
    "        \n",
    "    def eval_model(self):\n",
    "        self._eval_model(\n",
    "            self.model,\n",
    "            self.dataloader,\n",
    "            self.criterion,\n",
    "        )\n",
    "        \n",
    "    def model_summary(self):\n",
    "        return self._model_summary(self.model)\n",
    "        \n",
    "    def _show_databatch(self, inputs, classes, class_names):\n",
    "        out = torchvision.utils.make_grid(inputs)\n",
    "        self.imshow(out, title=[class_names[x] for x in classes])\n",
    "\n",
    "    def _visualize_model(self, model, dataloader, num_images=8):\n",
    "        was_training = model.training\n",
    "\n",
    "        # Set model for evaluation\n",
    "        model.eval()\n",
    "\n",
    "        with torch.no_grad():\n",
    "            inputs, classes = next(iter(dataloader))\n",
    "            \n",
    "            device = self._check_device()\n",
    "            inputs = inputs.to(device)\n",
    "            classes = classes.to(device)\n",
    "            model.to(device)\n",
    "                \n",
    "            if num_images is not None:\n",
    "                inputs = inputs[:num_images]\n",
    "                classes = classes[:num_images]\n",
    "\n",
    "            outputs = model(inputs)\n",
    "\n",
    "            _, preds = torch.max(outputs.data, 1)\n",
    "\n",
    "            print(\"Ground truth:\")\n",
    "            self._show_databatch(inputs.detach().cpu(), classes.detach().cpu(), self.class_names)\n",
    "            print(\"Prediction:\")\n",
    "            self._show_databatch(inputs.detach().cpu(), preds, self.class_names)\n",
    "\n",
    "            del inputs, classes, outputs, preds\n",
    "            torch.cuda.empty_cache()\n",
    "\n",
    "        model.train(mode=was_training)  # Revert model back to original training state\n",
    "        \n",
    "    def _eval_model(self, model, data_loader, criterion):\n",
    "        since = time.time()\n",
    "        avg_loss = 0\n",
    "        avg_acc = 0\n",
    "        loss_test = 0\n",
    "        acc_test = 0\n",
    "        total_size = 0\n",
    "\n",
    "        test_batches = len(data_loader)\n",
    "        print(\"Evaluating model\")\n",
    "        print(\"-\" * 10)\n",
    "\n",
    "        model.eval()\n",
    "        with torch.no_grad():\n",
    "            for i, data in enumerate(data_loader):\n",
    "\n",
    "                if i % 5 == 0:\n",
    "                    message = (\n",
    "                        f\"\\rTest batch {i}/{test_batches}\"\n",
    "                        + \",  \"\n",
    "                        + f\"Avg loss (test): {avg_loss:.4f}\"\n",
    "                        + \",  \"\n",
    "                        + f\"Avg acc (test): {avg_acc:.4f}\"\n",
    "                    )\n",
    "                    print(message, end=\"\", flush=True)\n",
    "\n",
    "                \n",
    "\n",
    "                inputs, classes = data\n",
    "                inputs_size = inputs.size(0)\n",
    "\n",
    "                device = self._check_device()\n",
    "                inputs = inputs.to(device)\n",
    "                classes = classes.to(device)\n",
    "                model.to(device)\n",
    "\n",
    "                outputs = model(inputs)\n",
    "\n",
    "                _, preds = torch.max(outputs, 1)\n",
    "                loss = criterion(outputs, classes)\n",
    "\n",
    "                loss_test += loss.item()\n",
    "                acc_test += torch.sum(preds == classes).item()\n",
    "\n",
    "                total_size += inputs_size\n",
    "\n",
    "                avg_loss = loss_test / total_size\n",
    "                avg_acc = acc_test / total_size\n",
    "\n",
    "                del inputs, classes, outputs, preds\n",
    "                torch.cuda.empty_cache()\n",
    "\n",
    "        avg_loss = loss_test / total_size\n",
    "        avg_acc = acc_test / total_size\n",
    "\n",
    "        elapsed_time = time.time() - since\n",
    "        print()\n",
    "        print(\"=\" * 10)\n",
    "        print(\n",
    "            \"Evaluation completed in {:.0f}m {:.0f}s\".format(\n",
    "                elapsed_time // 60, elapsed_time % 60\n",
    "            )\n",
    "        )\n",
    "        print(\"Avg loss (test): {:.4f}\".format(avg_loss))\n",
    "        print(\"Avg acc (test): {:.4f}\".format(avg_acc))\n",
    "        print(\"-\" * 10)\n",
    "        \n",
    "        self.avg_loss = avg_loss\n",
    "        self.avg_acc = avg_acc\n",
    "        \n",
    "    def _model_summary(self, model):\n",
    "        batch_size = 2\n",
    "\n",
    "        return summary(\n",
    "            model,\n",
    "            input_size=(batch_size, 3, 224, 224),\n",
    "            col_names = [\n",
    "                \"output_size\",\n",
    "                \"params_percent\",\n",
    "                \"trainable\",\n",
    "            ]\n",
    "        )\n",
    "    \n",
    "    def _check_device(self):\n",
    "        if torch.cuda.is_available():\n",
    "            device = torch.device(\"cuda:0\")\n",
    "        else:\n",
    "            device = torch.device(\"cpu\")\n",
    "        return device"
   ]
  },
  {
   "cell_type": "markdown",
   "id": "a32bc06e",
   "metadata": {
    "papermill": {
     "duration": 0.008928,
     "end_time": "2023-05-07T23:28:16.812652",
     "exception": false,
     "start_time": "2023-05-07T23:28:16.803724",
     "status": "completed"
    },
    "tags": []
   },
   "source": [
    "Let's look at some images!"
   ]
  },
  {
   "cell_type": "code",
   "execution_count": 6,
   "id": "4a95ac63",
   "metadata": {
    "execution": {
     "iopub.execute_input": "2023-05-07T23:28:16.832205Z",
     "iopub.status.busy": "2023-05-07T23:28:16.831417Z",
     "iopub.status.idle": "2023-05-07T23:28:18.206378Z",
     "shell.execute_reply": "2023-05-07T23:28:18.205393Z"
    },
    "papermill": {
     "duration": 1.387112,
     "end_time": "2023-05-07T23:28:18.208680",
     "exception": false,
     "start_time": "2023-05-07T23:28:16.821568",
     "status": "completed"
    },
    "tags": []
   },
   "outputs": [
    {
     "data": {
      "image/png": "[encoded data removed]",
      "text/plain": [
       "<Figure size 640x480 with 1 Axes>"
      ]
     },
     "metadata": {},
     "output_type": "display_data"
    }
   ],
   "source": [
    "evaltools = EvaluationTools(\n",
    "    dataloader = datamodule.dataloaders.test,\n",
    "    class_names = datamodule.datasets.test.classes,\n",
    ")\n",
    "evaltools.show_databatch(8)"
   ]
  },
  {
   "cell_type": "markdown",
   "id": "1b198399",
   "metadata": {
    "papermill": {
     "duration": 0.009931,
     "end_time": "2023-05-07T23:28:18.229188",
     "exception": false,
     "start_time": "2023-05-07T23:28:18.219257",
     "status": "completed"
    },
    "tags": []
   },
   "source": [
    "# <a id='toc5_'></a>[Model Creation](#toc0_)"
   ]
  },
  {
   "cell_type": "markdown",
   "id": "5f403a3d",
   "metadata": {
    "papermill": {
     "duration": 0.009528,
     "end_time": "2023-05-07T23:28:18.248594",
     "exception": false,
     "start_time": "2023-05-07T23:28:18.239066",
     "status": "completed"
    },
    "tags": []
   },
   "source": [
    "Here I define 3 model classes. \"TL\" is short for \"Transfer Learning\".:\n",
    "\n",
    "- `VGG11TL`\n",
    "    - VGG is known for its simplicity and has achieved impressive results in image classification tasks.\n",
    "- `ResNet34TL`\n",
    "    - ResNet is built on the idea of residual connections, which allow the network to learn residual functions instead of trying to learn the original mapping directly.\n",
    "- `EfficientNetTL`\n",
    "    - EfficientNet uses a combination of efficient building blocks, including mobile inverted bottleneck and squeeze-and-excitation modules, to achieve high accuracy with fewer parameters and faster inference times."
   ]
  },
  {
   "cell_type": "code",
   "execution_count": 7,
   "id": "c9b506ad",
   "metadata": {
    "execution": {
     "iopub.execute_input": "2023-05-07T23:28:18.269498Z",
     "iopub.status.busy": "2023-05-07T23:28:18.268944Z",
     "iopub.status.idle": "2023-05-07T23:28:18.275793Z",
     "shell.execute_reply": "2023-05-07T23:28:18.274910Z"
    },
    "papermill": {
     "duration": 0.01957,
     "end_time": "2023-05-07T23:28:18.277615",
     "exception": false,
     "start_time": "2023-05-07T23:28:18.258045",
     "status": "completed"
    },
    "tags": []
   },
   "outputs": [],
   "source": [
    "class VGG11TL(nn.Module):\n",
    "    def __init__(self, n_classes=4, fine_tune=False) -> None:\n",
    "        super().__init__()\n",
    "\n",
    "        self.n_classes = n_classes\n",
    "        self.fine_tune = fine_tune\n",
    "        self.vgg = self._setup_vgg()\n",
    "\n",
    "    def forward(self, x):\n",
    "        x = self.vgg(x)\n",
    "        return x\n",
    "\n",
    "    def _setup_vgg(self):\n",
    "        # load pretrained model\n",
    "        vgg = models.vgg11_bn(\n",
    "            weights=\"DEFAULT\",\n",
    "        )\n",
    "\n",
    "        if not self.fine_tune:\n",
    "            # freeze weights of feature extractor\n",
    "            for param in vgg.features.parameters():\n",
    "                param.requires_grad = False\n",
    "\n",
    "        # replace last layer\n",
    "        in_features = vgg.classifier[-1].in_features\n",
    "        vgg.classifier[-1] = nn.Linear(in_features, self.n_classes)\n",
    "\n",
    "        return vgg"
   ]
  },
  {
   "cell_type": "code",
   "execution_count": 8,
   "id": "ab26da29",
   "metadata": {
    "execution": {
     "iopub.execute_input": "2023-05-07T23:28:18.298305Z",
     "iopub.status.busy": "2023-05-07T23:28:18.297597Z",
     "iopub.status.idle": "2023-05-07T23:28:18.304834Z",
     "shell.execute_reply": "2023-05-07T23:28:18.304036Z"
    },
    "papermill": {
     "duration": 0.019625,
     "end_time": "2023-05-07T23:28:18.306787",
     "exception": false,
     "start_time": "2023-05-07T23:28:18.287162",
     "status": "completed"
    },
    "tags": []
   },
   "outputs": [],
   "source": [
    "class ResNet34TL(nn.Module):\n",
    "    def __init__(self, n_classes=4, fine_tune=False) -> None:\n",
    "        super().__init__()\n",
    "\n",
    "        self.n_classes = n_classes\n",
    "        self.fine_tune = fine_tune\n",
    "        self.resnet = self._setup_resnet()\n",
    "\n",
    "    def forward(self, x):\n",
    "        x = self.resnet(x)\n",
    "        return x\n",
    "\n",
    "    def _setup_resnet(self):\n",
    "        # load pretrained model\n",
    "        resnet = models.resnet34(\n",
    "            weights=\"DEFAULT\",\n",
    "        )\n",
    "\n",
    "        if not self.fine_tune:\n",
    "            # freeze weights of feature extractor\n",
    "            for param in resnet.parameters():\n",
    "                param.requires_grad = False\n",
    "\n",
    "        # replace last layer\n",
    "        in_features = resnet.fc.in_features\n",
    "        resnet.fc = nn.Sequential(\n",
    "            nn.Linear(in_features, 128),\n",
    "            nn.ReLU(inplace=True),\n",
    "            nn.Linear(128, self.n_classes)\n",
    "        )\n",
    "\n",
    "        return resnet"
   ]
  },
  {
   "cell_type": "code",
   "execution_count": 9,
   "id": "aeaea8b0",
   "metadata": {
    "execution": {
     "iopub.execute_input": "2023-05-07T23:28:18.327630Z",
     "iopub.status.busy": "2023-05-07T23:28:18.326920Z",
     "iopub.status.idle": "2023-05-07T23:28:18.333625Z",
     "shell.execute_reply": "2023-05-07T23:28:18.332882Z"
    },
    "papermill": {
     "duration": 0.018973,
     "end_time": "2023-05-07T23:28:18.335418",
     "exception": false,
     "start_time": "2023-05-07T23:28:18.316445",
     "status": "completed"
    },
    "tags": []
   },
   "outputs": [],
   "source": [
    "class EfficientNetTL(nn.Module):\n",
    "    def __init__(self, n_classes=4, fine_tune=False) -> None:\n",
    "        super().__init__()\n",
    "\n",
    "        self.n_classes = n_classes\n",
    "        self.fine_tune = fine_tune\n",
    "        self.efficientnet = self._setup_efficientnet()\n",
    "\n",
    "    def forward(self, x):\n",
    "        x = self.efficientnet(x)\n",
    "        return x\n",
    "\n",
    "    def _setup_efficientnet(self):\n",
    "        # load pretrained model\n",
    "        efficientnet = models.efficientnet_v2_s(\n",
    "            weights=\"DEFAULT\",\n",
    "        )\n",
    "        \n",
    "        if not self.fine_tune:\n",
    "            # freeze weights of feature extractor\n",
    "            for param in efficientnet.parameters():\n",
    "                param.requires_grad = False\n",
    "\n",
    "        # replace last layer\n",
    "        in_features = efficientnet.classifier[-1].in_features\n",
    "        efficientnet.classifier[-1] = nn.Linear(in_features, self.n_classes)\n",
    "\n",
    "        return efficientnet"
   ]
  },
  {
   "cell_type": "markdown",
   "id": "8bd650d3",
   "metadata": {
    "papermill": {
     "duration": 0.009579,
     "end_time": "2023-05-07T23:28:18.354475",
     "exception": false,
     "start_time": "2023-05-07T23:28:18.344896",
     "status": "completed"
    },
    "tags": []
   },
   "source": [
    "## <a id='toc5_1_'></a>[Model Summaries](#toc0_)"
   ]
  },
  {
   "cell_type": "code",
   "execution_count": 10,
   "id": "72be52da",
   "metadata": {
    "execution": {
     "iopub.execute_input": "2023-05-07T23:28:18.374430Z",
     "iopub.status.busy": "2023-05-07T23:28:18.374192Z",
     "iopub.status.idle": "2023-05-07T23:28:18.377877Z",
     "shell.execute_reply": "2023-05-07T23:28:18.376994Z"
    },
    "papermill": {
     "duration": 0.015722,
     "end_time": "2023-05-07T23:28:18.379749",
     "exception": false,
     "start_time": "2023-05-07T23:28:18.364027",
     "status": "completed"
    },
    "tags": []
   },
   "outputs": [],
   "source": [
    "FINE_TUNE = True"
   ]
  },
  {
   "cell_type": "code",
   "execution_count": 11,
   "id": "9c1106ea",
   "metadata": {
    "execution": {
     "iopub.execute_input": "2023-05-07T23:28:18.400377Z",
     "iopub.status.busy": "2023-05-07T23:28:18.399608Z",
     "iopub.status.idle": "2023-05-07T23:28:38.383051Z",
     "shell.execute_reply": "2023-05-07T23:28:38.382015Z"
    },
    "papermill": {
     "duration": 19.995666,
     "end_time": "2023-05-07T23:28:38.384889",
     "exception": false,
     "start_time": "2023-05-07T23:28:18.389223",
     "status": "completed"
    },
    "tags": []
   },
   "outputs": [
    {
     "name": "stderr",
     "output_type": "stream",
     "text": [
      "Downloading: \"https://download.pytorch.org/models/vgg11_bn-6002323d.pth\" to /root/.cache/torch/hub/checkpoints/vgg11_bn-6002323d.pth\n",
      "100%|██████████| 507M/507M [00:03<00:00, 141MB/s]\n",
      "/opt/conda/lib/python3.10/site-packages/torchinfo/torchinfo.py:477: UserWarning: TypedStorage is deprecated. It will be removed in the future and UntypedStorage will be the only storage class. This should only matter to you if you are using storages directly.  To access UntypedStorage directly, use tensor.untyped_storage() instead of tensor.storage()\n",
      "  action_fn=lambda data: sys.getsizeof(data.storage()),\n",
      "/opt/conda/lib/python3.10/site-packages/torch/storage.py:665: UserWarning: TypedStorage is deprecated. It will be removed in the future and UntypedStorage will be the only storage class. This should only matter to you if you are using storages directly.  To access UntypedStorage directly, use tensor.untyped_storage() instead of tensor.storage()\n",
      "  return super().__sizeof__() + self.nbytes()\n"
     ]
    },
    {
     "data": {
      "text/plain": [
       "===================================================================================================================\n",
       "Layer (type:depth-idx)                   Output Shape              Param %                   Trainable\n",
       "===================================================================================================================\n",
       "VGG11TL                                  [2, 4]                         --                   True\n",
       "├─VGG: 1-1                               [2, 4]                         --                   True\n",
       "│    └─Sequential: 2-1                   [2, 512, 7, 7]                 --                   True\n",
       "│    │    └─Conv2d: 3-1                  [2, 64, 224, 224]           0.00%                   True\n",
       "│    │    └─BatchNorm2d: 3-2             [2, 64, 224, 224]           0.00%                   True\n",
       "│    │    └─ReLU: 3-3                    [2, 64, 224, 224]              --                   --\n",
       "│    │    └─MaxPool2d: 3-4               [2, 64, 112, 112]              --                   --\n",
       "│    │    └─Conv2d: 3-5                  [2, 128, 112, 112]          0.06%                   True\n",
       "│    │    └─BatchNorm2d: 3-6             [2, 128, 112, 112]          0.00%                   True\n",
       "│    │    └─ReLU: 3-7                    [2, 128, 112, 112]             --                   --\n",
       "│    │    └─MaxPool2d: 3-8               [2, 128, 56, 56]               --                   --\n",
       "│    │    └─Conv2d: 3-9                  [2, 256, 56, 56]            0.23%                   True\n",
       "│    │    └─BatchNorm2d: 3-10            [2, 256, 56, 56]            0.00%                   True\n",
       "│    │    └─ReLU: 3-11                   [2, 256, 56, 56]               --                   --\n",
       "│    │    └─Conv2d: 3-12                 [2, 256, 56, 56]            0.46%                   True\n",
       "│    │    └─BatchNorm2d: 3-13            [2, 256, 56, 56]            0.00%                   True\n",
       "│    │    └─ReLU: 3-14                   [2, 256, 56, 56]               --                   --\n",
       "│    │    └─MaxPool2d: 3-15              [2, 256, 28, 28]               --                   --\n",
       "│    │    └─Conv2d: 3-16                 [2, 512, 28, 28]            0.92%                   True\n",
       "│    │    └─BatchNorm2d: 3-17            [2, 512, 28, 28]            0.00%                   True\n",
       "│    │    └─ReLU: 3-18                   [2, 512, 28, 28]               --                   --\n",
       "│    │    └─Conv2d: 3-19                 [2, 512, 28, 28]            1.83%                   True\n",
       "│    │    └─BatchNorm2d: 3-20            [2, 512, 28, 28]            0.00%                   True\n",
       "│    │    └─ReLU: 3-21                   [2, 512, 28, 28]               --                   --\n",
       "│    │    └─MaxPool2d: 3-22              [2, 512, 14, 14]               --                   --\n",
       "│    │    └─Conv2d: 3-23                 [2, 512, 14, 14]            1.83%                   True\n",
       "│    │    └─BatchNorm2d: 3-24            [2, 512, 14, 14]            0.00%                   True\n",
       "│    │    └─ReLU: 3-25                   [2, 512, 14, 14]               --                   --\n",
       "│    │    └─Conv2d: 3-26                 [2, 512, 14, 14]            1.83%                   True\n",
       "│    │    └─BatchNorm2d: 3-27            [2, 512, 14, 14]            0.00%                   True\n",
       "│    │    └─ReLU: 3-28                   [2, 512, 14, 14]               --                   --\n",
       "│    │    └─MaxPool2d: 3-29              [2, 512, 7, 7]                 --                   --\n",
       "│    └─AdaptiveAvgPool2d: 2-2            [2, 512, 7, 7]                 --                   --\n",
       "│    └─Sequential: 2-3                   [2, 4]                         --                   True\n",
       "│    │    └─Linear: 3-30                 [2, 4096]                  79.79%                   True\n",
       "│    │    └─ReLU: 3-31                   [2, 4096]                      --                   --\n",
       "│    │    └─Dropout: 3-32                [2, 4096]                      --                   --\n",
       "│    │    └─Linear: 3-33                 [2, 4096]                  13.03%                   True\n",
       "│    │    └─ReLU: 3-34                   [2, 4096]                      --                   --\n",
       "│    │    └─Dropout: 3-35                [2, 4096]                      --                   --\n",
       "│    │    └─Linear: 3-36                 [2, 4]                      0.01%                   True\n",
       "===================================================================================================================\n",
       "Total params: 128,788,228\n",
       "Trainable params: 128,788,228\n",
       "Non-trainable params: 0\n",
       "Total mult-adds (G): 15.22\n",
       "===================================================================================================================\n",
       "Input size (MB): 1.20\n",
       "Forward/backward pass size (MB): 237.76\n",
       "Params size (MB): 515.15\n",
       "Estimated Total Size (MB): 754.12\n",
       "==================================================================================================================="
      ]
     },
     "execution_count": 11,
     "metadata": {},
     "output_type": "execute_result"
    }
   ],
   "source": [
    "vgg11 = VGG11TL(fine_tune=FINE_TUNE)\n",
    "\n",
    "evaltools_vgg = EvaluationTools(\n",
    "    model=vgg11,\n",
    "    dataloader = datamodule.dataloaders.test,\n",
    "    class_names = datamodule.datasets.test.classes,\n",
    ")\n",
    "evaltools_vgg.model_summary()"
   ]
  },
  {
   "cell_type": "code",
   "execution_count": 12,
   "id": "6400f059",
   "metadata": {
    "execution": {
     "iopub.execute_input": "2023-05-07T23:28:38.409465Z",
     "iopub.status.busy": "2023-05-07T23:28:38.408909Z",
     "iopub.status.idle": "2023-05-07T23:28:40.609642Z",
     "shell.execute_reply": "2023-05-07T23:28:40.608753Z"
    },
    "papermill": {
     "duration": 2.214776,
     "end_time": "2023-05-07T23:28:40.611555",
     "exception": false,
     "start_time": "2023-05-07T23:28:38.396779",
     "status": "completed"
    },
    "tags": []
   },
   "outputs": [
    {
     "name": "stderr",
     "output_type": "stream",
     "text": [
      "Downloading: \"https://download.pytorch.org/models/resnet34-b627a593.pth\" to /root/.cache/torch/hub/checkpoints/resnet34-b627a593.pth\n",
      "100%|██████████| 83.3M/83.3M [00:01<00:00, 64.4MB/s]\n"
     ]
    },
    {
     "data": {
      "text/plain": [
       "========================================================================================================================\n",
       "Layer (type:depth-idx)                        Output Shape              Param %                   Trainable\n",
       "========================================================================================================================\n",
       "ResNet34TL                                    [2, 4]                         --                   True\n",
       "├─ResNet: 1-1                                 [2, 4]                         --                   True\n",
       "│    └─Conv2d: 2-1                            [2, 64, 112, 112]           0.04%                   True\n",
       "│    └─BatchNorm2d: 2-2                       [2, 64, 112, 112]           0.00%                   True\n",
       "│    └─ReLU: 2-3                              [2, 64, 112, 112]              --                   --\n",
       "│    └─MaxPool2d: 2-4                         [2, 64, 56, 56]                --                   --\n",
       "│    └─Sequential: 2-5                        [2, 64, 56, 56]                --                   True\n",
       "│    │    └─BasicBlock: 3-1                   [2, 64, 56, 56]             0.35%                   True\n",
       "│    │    └─BasicBlock: 3-2                   [2, 64, 56, 56]             0.35%                   True\n",
       "│    │    └─BasicBlock: 3-3                   [2, 64, 56, 56]             0.35%                   True\n",
       "│    └─Sequential: 2-6                        [2, 128, 28, 28]               --                   True\n",
       "│    │    └─BasicBlock: 3-4                   [2, 128, 28, 28]            1.08%                   True\n",
       "│    │    └─BasicBlock: 3-5                   [2, 128, 28, 28]            1.38%                   True\n",
       "│    │    └─BasicBlock: 3-6                   [2, 128, 28, 28]            1.38%                   True\n",
       "│    │    └─BasicBlock: 3-7                   [2, 128, 28, 28]            1.38%                   True\n",
       "│    └─Sequential: 2-7                        [2, 256, 14, 14]               --                   True\n",
       "│    │    └─BasicBlock: 3-8                   [2, 256, 14, 14]            4.30%                   True\n",
       "│    │    └─BasicBlock: 3-9                   [2, 256, 14, 14]            5.53%                   True\n",
       "│    │    └─BasicBlock: 3-10                  [2, 256, 14, 14]            5.53%                   True\n",
       "│    │    └─BasicBlock: 3-11                  [2, 256, 14, 14]            5.53%                   True\n",
       "│    │    └─BasicBlock: 3-12                  [2, 256, 14, 14]            5.53%                   True\n",
       "│    │    └─BasicBlock: 3-13                  [2, 256, 14, 14]            5.53%                   True\n",
       "│    └─Sequential: 2-8                        [2, 512, 7, 7]                 --                   True\n",
       "│    │    └─BasicBlock: 3-14                  [2, 512, 7, 7]             17.20%                   True\n",
       "│    │    └─BasicBlock: 3-15                  [2, 512, 7, 7]             22.11%                   True\n",
       "│    │    └─BasicBlock: 3-16                  [2, 512, 7, 7]             22.11%                   True\n",
       "│    └─AdaptiveAvgPool2d: 2-9                 [2, 512, 1, 1]                 --                   --\n",
       "│    └─Sequential: 2-10                       [2, 4]                         --                   True\n",
       "│    │    └─Linear: 3-17                      [2, 128]                    0.31%                   True\n",
       "│    │    └─ReLU: 3-18                        [2, 128]                       --                   --\n",
       "│    │    └─Linear: 3-19                      [2, 4]                      0.00%                   True\n",
       "========================================================================================================================\n",
       "Total params: 21,350,852\n",
       "Trainable params: 21,350,852\n",
       "Non-trainable params: 0\n",
       "Total mult-adds (G): 7.33\n",
       "========================================================================================================================\n",
       "Input size (MB): 1.20\n",
       "Forward/backward pass size (MB): 119.62\n",
       "Params size (MB): 85.40\n",
       "Estimated Total Size (MB): 206.23\n",
       "========================================================================================================================"
      ]
     },
     "execution_count": 12,
     "metadata": {},
     "output_type": "execute_result"
    }
   ],
   "source": [
    "resnet34 = ResNet34TL(fine_tune=FINE_TUNE)\n",
    "\n",
    "evaltools_resnet = EvaluationTools(\n",
    "    model=resnet34,\n",
    "    dataloader = datamodule.dataloaders.test,\n",
    "    class_names = datamodule.datasets.test.classes,\n",
    ")\n",
    "evaltools_resnet.model_summary()"
   ]
  },
  {
   "cell_type": "code",
   "execution_count": 13,
   "id": "b5d16a2d",
   "metadata": {
    "execution": {
     "iopub.execute_input": "2023-05-07T23:28:40.638404Z",
     "iopub.status.busy": "2023-05-07T23:28:40.637817Z",
     "iopub.status.idle": "2023-05-07T23:28:43.650928Z",
     "shell.execute_reply": "2023-05-07T23:28:43.650006Z"
    },
    "papermill": {
     "duration": 3.028486,
     "end_time": "2023-05-07T23:28:43.653047",
     "exception": false,
     "start_time": "2023-05-07T23:28:40.624561",
     "status": "completed"
    },
    "tags": []
   },
   "outputs": [
    {
     "name": "stderr",
     "output_type": "stream",
     "text": [
      "Downloading: \"https://download.pytorch.org/models/efficientnet_v2_s-dd5fe13b.pth\" to /root/.cache/torch/hub/checkpoints/efficientnet_v2_s-dd5fe13b.pth\n",
      "100%|██████████| 82.7M/82.7M [00:01<00:00, 51.0MB/s]\n"
     ]
    },
    {
     "data": {
      "text/plain": [
       "=======================================================================================================================================\n",
       "Layer (type:depth-idx)                                       Output Shape              Param %                   Trainable\n",
       "=======================================================================================================================================\n",
       "EfficientNetTL                                               [2, 4]                         --                   True\n",
       "├─EfficientNet: 1-1                                          [2, 4]                         --                   True\n",
       "│    └─Sequential: 2-1                                       [2, 1280, 7, 7]                --                   True\n",
       "│    │    └─Conv2dNormActivation: 3-1                        [2, 24, 112, 112]           0.00%                   True\n",
       "│    │    └─Sequential: 3-2                                  [2, 24, 112, 112]           0.05%                   True\n",
       "│    │    └─Sequential: 3-3                                  [2, 48, 56, 56]             1.50%                   True\n",
       "│    │    └─Sequential: 3-4                                  [2, 64, 28, 28]             2.92%                   True\n",
       "│    │    └─Sequential: 3-5                                  [2, 128, 14, 14]            4.55%                   True\n",
       "│    │    └─Sequential: 3-6                                  [2, 160, 14, 14]           17.16%                   True\n",
       "│    │    └─Sequential: 3-7                                  [2, 256, 7, 7]             72.15%                   True\n",
       "│    │    └─Conv2dNormActivation: 3-8                        [2, 1280, 7, 7]             1.64%                   True\n",
       "│    └─AdaptiveAvgPool2d: 2-2                                [2, 1280, 1, 1]                --                   --\n",
       "│    └─Sequential: 2-3                                       [2, 4]                         --                   True\n",
       "│    │    └─Dropout: 3-9                                     [2, 1280]                      --                   --\n",
       "│    │    └─Linear: 3-10                                     [2, 4]                      0.03%                   True\n",
       "=======================================================================================================================================\n",
       "Total params: 20,182,612\n",
       "Trainable params: 20,182,612\n",
       "Non-trainable params: 0\n",
       "Total mult-adds (G): 5.70\n",
       "=======================================================================================================================================\n",
       "Input size (MB): 1.20\n",
       "Forward/backward pass size (MB): 389.63\n",
       "Params size (MB): 80.73\n",
       "Estimated Total Size (MB): 471.56\n",
       "======================================================================================================================================="
      ]
     },
     "execution_count": 13,
     "metadata": {},
     "output_type": "execute_result"
    }
   ],
   "source": [
    "efficientnet = EfficientNetTL(fine_tune=FINE_TUNE)\n",
    "\n",
    "evaltools_efficientnet = EvaluationTools(\n",
    "    model=efficientnet,\n",
    "    dataloader = datamodule.dataloaders.test,\n",
    "    class_names = datamodule.datasets.test.classes,\n",
    ")\n",
    "evaltools_efficientnet.model_summary()"
   ]
  },
  {
   "cell_type": "markdown",
   "id": "a5b53cfc",
   "metadata": {
    "papermill": {
     "duration": 0.013463,
     "end_time": "2023-05-07T23:28:43.680855",
     "exception": false,
     "start_time": "2023-05-07T23:28:43.667392",
     "status": "completed"
    },
    "tags": []
   },
   "source": [
    "# <a id='toc6_'></a>[Evaluation before training](#toc0_)"
   ]
  },
  {
   "cell_type": "code",
   "execution_count": 14,
   "id": "065d67f0",
   "metadata": {
    "execution": {
     "iopub.execute_input": "2023-05-07T23:28:43.709651Z",
     "iopub.status.busy": "2023-05-07T23:28:43.708858Z",
     "iopub.status.idle": "2023-05-07T23:28:43.713351Z",
     "shell.execute_reply": "2023-05-07T23:28:43.712356Z"
    },
    "papermill": {
     "duration": 0.020762,
     "end_time": "2023-05-07T23:28:43.715097",
     "exception": false,
     "start_time": "2023-05-07T23:28:43.694335",
     "status": "completed"
    },
    "tags": []
   },
   "outputs": [],
   "source": [
    "criterion = nn.CrossEntropyLoss()"
   ]
  },
  {
   "cell_type": "code",
   "execution_count": 15,
   "id": "131eb912",
   "metadata": {
    "execution": {
     "iopub.execute_input": "2023-05-07T23:28:43.744200Z",
     "iopub.status.busy": "2023-05-07T23:28:43.743400Z",
     "iopub.status.idle": "2023-05-07T23:28:54.885554Z",
     "shell.execute_reply": "2023-05-07T23:28:54.883242Z"
    },
    "papermill": {
     "duration": 11.159335,
     "end_time": "2023-05-07T23:28:54.887965",
     "exception": false,
     "start_time": "2023-05-07T23:28:43.728630",
     "status": "completed"
    },
    "tags": []
   },
   "outputs": [
    {
     "name": "stdout",
     "output_type": "stream",
     "text": [
      "Evaluating model\n",
      "----------\n",
      "Test batch 30/31,  Avg loss (test): 0.0430,  Avg acc (test): 0.3021\n",
      "==========\n",
      "Evaluation completed in 0m 11s\n",
      "Avg loss (test): 0.0440\n",
      "Avg acc (test): 0.3017\n",
      "----------\n"
     ]
    }
   ],
   "source": [
    "evaltools_vgg.criterion = criterion\n",
    "evaltools_vgg.eval_model()"
   ]
  },
  {
   "cell_type": "code",
   "execution_count": 16,
   "id": "2316a1f7",
   "metadata": {
    "execution": {
     "iopub.execute_input": "2023-05-07T23:28:54.921453Z",
     "iopub.status.busy": "2023-05-07T23:28:54.921133Z",
     "iopub.status.idle": "2023-05-07T23:29:00.819630Z",
     "shell.execute_reply": "2023-05-07T23:29:00.817539Z"
    },
    "papermill": {
     "duration": 5.917474,
     "end_time": "2023-05-07T23:29:00.821899",
     "exception": false,
     "start_time": "2023-05-07T23:28:54.904425",
     "status": "completed"
    },
    "tags": []
   },
   "outputs": [
    {
     "name": "stdout",
     "output_type": "stream",
     "text": [
      "Evaluating model\n",
      "----------\n",
      "Test batch 30/31,  Avg loss (test): 0.0445,  Avg acc (test): 0.2510\n",
      "==========\n",
      "Evaluation completed in 0m 6s\n",
      "Avg loss (test): 0.0455\n",
      "Avg acc (test): 0.2521\n",
      "----------\n"
     ]
    }
   ],
   "source": [
    "evaltools_resnet.criterion = criterion\n",
    "evaltools_resnet.eval_model()"
   ]
  },
  {
   "cell_type": "code",
   "execution_count": 17,
   "id": "9442ae00",
   "metadata": {
    "execution": {
     "iopub.execute_input": "2023-05-07T23:29:00.854812Z",
     "iopub.status.busy": "2023-05-07T23:29:00.854496Z",
     "iopub.status.idle": "2023-05-07T23:29:08.295607Z",
     "shell.execute_reply": "2023-05-07T23:29:08.294340Z"
    },
    "papermill": {
     "duration": 7.459965,
     "end_time": "2023-05-07T23:29:08.297685",
     "exception": false,
     "start_time": "2023-05-07T23:29:00.837720",
     "status": "completed"
    },
    "tags": []
   },
   "outputs": [
    {
     "name": "stdout",
     "output_type": "stream",
     "text": [
      "Evaluating model\n",
      "----------\n",
      "Test batch 30/31,  Avg loss (test): 0.0423,  Avg acc (test): 0.3542\n",
      "==========\n",
      "Evaluation completed in 0m 7s\n",
      "Avg loss (test): 0.0434\n",
      "Avg acc (test): 0.3512\n",
      "----------\n"
     ]
    }
   ],
   "source": [
    "evaltools_efficientnet.criterion = criterion\n",
    "evaltools_efficientnet.eval_model()"
   ]
  },
  {
   "cell_type": "markdown",
   "id": "a7aeda8c",
   "metadata": {
    "papermill": {
     "duration": 0.015471,
     "end_time": "2023-05-07T23:29:08.328600",
     "exception": false,
     "start_time": "2023-05-07T23:29:08.313129",
     "status": "completed"
    },
    "tags": []
   },
   "source": [
    "# <a id='toc7_'></a>[Training](#toc0_)"
   ]
  },
  {
   "cell_type": "code",
   "execution_count": 18,
   "id": "2a7bcffd",
   "metadata": {
    "execution": {
     "iopub.execute_input": "2023-05-07T23:29:08.360734Z",
     "iopub.status.busy": "2023-05-07T23:29:08.359931Z",
     "iopub.status.idle": "2023-05-07T23:29:08.381872Z",
     "shell.execute_reply": "2023-05-07T23:29:08.381101Z"
    },
    "papermill": {
     "duration": 0.040526,
     "end_time": "2023-05-07T23:29:08.383908",
     "exception": false,
     "start_time": "2023-05-07T23:29:08.343382",
     "status": "completed"
    },
    "tags": []
   },
   "outputs": [],
   "source": [
    "class Trainer:\n",
    "    def __init__(\n",
    "        self,\n",
    "        model,\n",
    "        train_data_loader,\n",
    "        val_data_loader,\n",
    "        criterion,\n",
    "        optimizer,\n",
    "        num_epochs: int = 10,\n",
    "        resume: bool = False,\n",
    "        path_to_checkpoint=None,\n",
    "        checkpoint_dir=None,\n",
    "    ):\n",
    "        self.model = model\n",
    "        self.train_data_loader = train_data_loader\n",
    "        self.val_data_loader = val_data_loader\n",
    "        self.criterion = criterion\n",
    "        self.optimizer = optimizer\n",
    "        self.num_epochs = num_epochs\n",
    "        self.resume = resume\n",
    "        self.path_to_checkpoint = path_to_checkpoint\n",
    "        self.n_iter = 0\n",
    "        self.start_epoch = 0\n",
    "        self.epoch = 0\n",
    "        self.device = torch.device(\"cuda:0\" if torch.cuda.is_available() else \"cpu\")\n",
    "        self.checkpoint_dir = checkpoint_dir\n",
    "        self.train_losses = []\n",
    "        self.train_acc = []\n",
    "        self.train_time = None\n",
    "\n",
    "        if self.resume:\n",
    "            ckpt = self.load_checkpoint(self.path_to_checkpoint)\n",
    "            self.model.load_state_dict(ckpt[\"net\"])\n",
    "            self.start_epoch = ckpt[\"epoch\"]\n",
    "            self.n_iter = ckpt[\"n_iter\"]\n",
    "            self.optimizer.load_state_dict(ckpt[\"optim\"])\n",
    "            print(\"Last checkpoint restored\")\n",
    "\n",
    "        self.model.to(self.device)\n",
    "\n",
    "    def train_step(self):\n",
    "        self.model.train()\n",
    "        \n",
    "        correct = 0\n",
    "        total = 0\n",
    "\n",
    "        # use prefetch_generator and tqdm for iterating through data\n",
    "        pbar = tqdm(\n",
    "            enumerate(self.train_data_loader), total=len(self.train_data_loader)\n",
    "        )\n",
    "        start_time = time.time()\n",
    "\n",
    "        # for loop going through dataset\n",
    "        for i, data in pbar:\n",
    "\n",
    "            # data preparation\n",
    "            img, label = data\n",
    "            img = img.to(self.device)\n",
    "            label = label.to(self.device)\n",
    "\n",
    "            # It's very good practice to keep track of preparation time and computation time using tqdm to find any issues in your dataloader\n",
    "            prepare_time = start_time - time.time()\n",
    "\n",
    "            # forward and backward pass\n",
    "            out = self.model(img)\n",
    "            loss = self.criterion(out, label)\n",
    "            self.optimizer.zero_grad()\n",
    "            loss.backward()\n",
    "            self.optimizer.step()\n",
    "            \n",
    "            _, predicted = torch.max(out.detach(), 1)\n",
    "            total += label.size(0)\n",
    "            correct += (predicted == label).sum().item()\n",
    "            accuracy = 100 * correct / total\n",
    "            \n",
    "            # compute computation time and *compute_efficiency*\n",
    "            # If compute_efficiency is nearly 1, prepare_time is negligible, that's good.\n",
    "            process_time = start_time - time.time() - prepare_time\n",
    "            compute_efficiency = process_time / (process_time + prepare_time)\n",
    "            pbar.set_description(\n",
    "                f\"Compute efficiency: {compute_efficiency:.2f}, \"\n",
    "                f\"loss: {loss.item():.2f},  acc: {accuracy:.2f},  epoch: {self.epoch}/{self.num_epochs}\"\n",
    "            )\n",
    "            start_time = time.time()\n",
    "            \n",
    "            self.train_losses.append(loss.item())\n",
    "            self.train_acc.append(accuracy)\n",
    "            self.n_iter += 1\n",
    "\n",
    "    def validation_step(self):\n",
    "        # bring model to evaluation mode\n",
    "        self.model.eval()\n",
    "\n",
    "        correct = 0\n",
    "        total = 0\n",
    "\n",
    "        pbar = tqdm(\n",
    "            enumerate(self.val_data_loader),\n",
    "            total=len(self.val_data_loader),\n",
    "        )\n",
    "\n",
    "        with torch.no_grad():\n",
    "            for i, data in pbar:\n",
    "\n",
    "                # data preparation\n",
    "                img, label = data\n",
    "                img = img.to(self.device)\n",
    "                label = label.to(self.device)\n",
    "\n",
    "                out = self.model(img)\n",
    "                _, predicted = torch.max(out.detach(), 1)\n",
    "                total += label.size(0)\n",
    "                correct += (predicted == label).sum().item()\n",
    "\n",
    "        accuracy = 100 * correct / total\n",
    "        print(f\"Accuracy on validation set: {accuracy:.2f}\")\n",
    "\n",
    "    def load_checkpoint(self, path_to_checkpoint):\n",
    "        ckpt = torch.load(path_to_checkpoint)\n",
    "        return ckpt\n",
    "\n",
    "    def save_checkpoint(self):\n",
    "        ckpt = {\n",
    "            \"net\": self.model.state_dict(),\n",
    "            \"epoch\": self.epoch,\n",
    "            \"n_iter\": self.n_iter,\n",
    "            \"optim\": self.optimizer.state_dict(),\n",
    "        }\n",
    "\n",
    "        ckpt_file_name = f\"ckpt.pt\"\n",
    "        ckpt_path = os.path.join(self.checkpoint_dir, ckpt_file_name)\n",
    "\n",
    "        if not os.path.exists(self.checkpoint_dir):\n",
    "            os.makedirs(self.checkpoint_dir)\n",
    "\n",
    "        torch.save(ckpt, ckpt_path)\n",
    "        print(f\"checkpoint is saved at {ckpt_path}!\")\n",
    "    \n",
    "    def plot_train_progress(self):\n",
    "        fig, ax1 = plt.subplots()\n",
    "        ax2 = ax1.twinx()\n",
    "        \n",
    "        ax1.plot(self.train_losses, label=\"train_loss\", color=\"tab:blue\")\n",
    "        ax2.plot(self.train_acc, label=\"train_acc\", color=\"tab:orange\")\n",
    "        \n",
    "        h1, l1 = ax1.get_legend_handles_labels()\n",
    "        h2, l2 = ax2.get_legend_handles_labels()\n",
    "        ax1.legend(h1+h2, l1+l2, loc='lower right')\n",
    "        fig.show()\n",
    "\n",
    "    def train(self):\n",
    "        start_time = time.time()\n",
    "        \n",
    "        for epoch in range(self.start_epoch, self.num_epochs):\n",
    "            # train step\n",
    "            self.train_step()\n",
    "\n",
    "            # validation step\n",
    "            if epoch % 1 == 0:\n",
    "                self.validation_step()\n",
    "\n",
    "            self.epoch += 1\n",
    "            \n",
    "        # save checkpoint\n",
    "        self.save_checkpoint()\n",
    "        \n",
    "        train_time = time.time() - start_time\n",
    "        self.train_time = train_time\n"
   ]
  },
  {
   "cell_type": "markdown",
   "id": "c6d79255",
   "metadata": {
    "papermill": {
     "duration": 0.015214,
     "end_time": "2023-05-07T23:29:08.413912",
     "exception": false,
     "start_time": "2023-05-07T23:29:08.398698",
     "status": "completed"
    },
    "tags": []
   },
   "source": [
    "## <a id='toc7_1_'></a>[VGG11](#toc0_)"
   ]
  },
  {
   "cell_type": "code",
   "execution_count": 19,
   "id": "a47f5bc8",
   "metadata": {
    "execution": {
     "iopub.execute_input": "2023-05-07T23:29:08.445728Z",
     "iopub.status.busy": "2023-05-07T23:29:08.444941Z",
     "iopub.status.idle": "2023-05-07T23:29:08.451642Z",
     "shell.execute_reply": "2023-05-07T23:29:08.450707Z"
    },
    "papermill": {
     "duration": 0.024278,
     "end_time": "2023-05-07T23:29:08.453478",
     "exception": false,
     "start_time": "2023-05-07T23:29:08.429200",
     "status": "completed"
    },
    "tags": []
   },
   "outputs": [],
   "source": [
    "criterion = nn.CrossEntropyLoss()\n",
    "optimizer = optim.SGD(vgg11.parameters(), lr=0.001, momentum=0.9)\n",
    "\n",
    "trainer_vgg = Trainer(\n",
    "    model=vgg11,\n",
    "    train_data_loader=datamodule.dataloaders.train,\n",
    "    val_data_loader=datamodule.dataloaders.val,\n",
    "    criterion=criterion,\n",
    "    optimizer=optimizer,\n",
    "    num_epochs=1,\n",
    "    resume=False,\n",
    "    checkpoint_dir=\"/kaggle/working/ckpt/vgg/\",\n",
    ")"
   ]
  },
  {
   "cell_type": "code",
   "execution_count": 20,
   "id": "74241ccc",
   "metadata": {
    "execution": {
     "iopub.execute_input": "2023-05-07T23:29:08.483561Z",
     "iopub.status.busy": "2023-05-07T23:29:08.483292Z",
     "iopub.status.idle": "2023-05-07T23:41:53.238226Z",
     "shell.execute_reply": "2023-05-07T23:41:53.237131Z"
    },
    "papermill": {
     "duration": 765.109004,
     "end_time": "2023-05-07T23:41:53.576930",
     "exception": false,
     "start_time": "2023-05-07T23:29:08.467926",
     "status": "completed"
    },
    "tags": []
   },
   "outputs": [
    {
     "name": "stderr",
     "output_type": "stream",
     "text": [
      "Compute efficiency: 1.00, loss: 0.67,  acc: 87.08,  epoch: 0/1: 100%|██████████| 2609/2609 [12:41<00:00,  3.43it/s]\n",
      "100%|██████████| 1/1 [00:00<00:00,  1.81it/s]\n"
     ]
    },
    {
     "name": "stdout",
     "output_type": "stream",
     "text": [
      "Accuracy on validation set: 100.00\n",
      "checkpoint is saved at /kaggle/working/ckpt/vgg/ckpt.pt!\n",
      "Train time:\t 764.3906350135803 [sec]\n"
     ]
    },
    {
     "data": {
      "image/png": "[encoded data removed]",
      "text/plain": [
       "<Figure size 640x480 with 2 Axes>"
      ]
     },
     "metadata": {},
     "output_type": "display_data"
    }
   ],
   "source": [
    "trainer_vgg.train()\n",
    "\n",
    "trainer_vgg.plot_train_progress()\n",
    "print(\"Train time:\\t\", trainer_vgg.train_time, \"[sec]\")"
   ]
  },
  {
   "cell_type": "code",
   "execution_count": 21,
   "id": "535b5e47",
   "metadata": {
    "execution": {
     "iopub.execute_input": "2023-05-07T23:41:54.149250Z",
     "iopub.status.busy": "2023-05-07T23:41:54.148877Z",
     "iopub.status.idle": "2023-05-07T23:41:55.020803Z",
     "shell.execute_reply": "2023-05-07T23:41:55.019613Z"
    },
    "papermill": {
     "duration": 1.161706,
     "end_time": "2023-05-07T23:41:55.023407",
     "exception": false,
     "start_time": "2023-05-07T23:41:53.861701",
     "status": "completed"
    },
    "tags": []
   },
   "outputs": [],
   "source": [
    "evaltools_vgg.model = trainer_vgg.model.cpu()\n",
    "torch.cuda.empty_cache()"
   ]
  },
  {
   "cell_type": "markdown",
   "id": "1545ac3e",
   "metadata": {
    "papermill": {
     "duration": 0.306338,
     "end_time": "2023-05-07T23:41:55.619512",
     "exception": false,
     "start_time": "2023-05-07T23:41:55.313174",
     "status": "completed"
    },
    "tags": []
   },
   "source": [
    "## <a id='toc7_2_'></a>[ResNet34](#toc0_)"
   ]
  },
  {
   "cell_type": "code",
   "execution_count": 22,
   "id": "b057f70b",
   "metadata": {
    "execution": {
     "iopub.execute_input": "2023-05-07T23:41:56.244498Z",
     "iopub.status.busy": "2023-05-07T23:41:56.244151Z",
     "iopub.status.idle": "2023-05-07T23:41:56.253552Z",
     "shell.execute_reply": "2023-05-07T23:41:56.252759Z"
    },
    "papermill": {
     "duration": 0.306232,
     "end_time": "2023-05-07T23:41:56.255344",
     "exception": false,
     "start_time": "2023-05-07T23:41:55.949112",
     "status": "completed"
    },
    "tags": []
   },
   "outputs": [],
   "source": [
    "criterion = nn.CrossEntropyLoss()\n",
    "optimizer = optim.SGD(resnet34.parameters(), lr=0.001, momentum=0.9)\n",
    "\n",
    "trainer_resnet = Trainer(\n",
    "    model=resnet34,\n",
    "    train_data_loader=datamodule.dataloaders.train,\n",
    "    val_data_loader=datamodule.dataloaders.val,\n",
    "    criterion=criterion,\n",
    "    optimizer=optimizer,\n",
    "    num_epochs=1,\n",
    "    resume=False,\n",
    "    checkpoint_dir=\"/kaggle/working/ckpt/resnet/\",\n",
    ")"
   ]
  },
  {
   "cell_type": "code",
   "execution_count": 23,
   "id": "4d0d8f80",
   "metadata": {
    "execution": {
     "iopub.execute_input": "2023-05-07T23:41:56.817628Z",
     "iopub.status.busy": "2023-05-07T23:41:56.817293Z",
     "iopub.status.idle": "2023-05-07T23:52:23.631829Z",
     "shell.execute_reply": "2023-05-07T23:52:23.630823Z"
    },
    "papermill": {
     "duration": 627.099967,
     "end_time": "2023-05-07T23:52:23.634054",
     "exception": false,
     "start_time": "2023-05-07T23:41:56.534087",
     "status": "completed"
    },
    "tags": []
   },
   "outputs": [
    {
     "name": "stderr",
     "output_type": "stream",
     "text": [
      "Compute efficiency: 0.99, loss: 0.27,  acc: 86.92,  epoch: 0/1: 100%|██████████| 2609/2609 [10:25<00:00,  4.17it/s]\n",
      "100%|██████████| 1/1 [00:00<00:00,  1.51it/s]\n"
     ]
    },
    {
     "name": "stdout",
     "output_type": "stream",
     "text": [
      "Accuracy on validation set: 100.00\n",
      "checkpoint is saved at /kaggle/working/ckpt/resnet/ckpt.pt!\n",
      "Train time:\t 626.4695551395416 [sec]\n"
     ]
    },
    {
     "data": {
      "image/png": "[encoded data removed]",
      "text/plain": [
       "<Figure size 640x480 with 2 Axes>"
      ]
     },
     "metadata": {},
     "output_type": "display_data"
    }
   ],
   "source": [
    "trainer_resnet.train()\n",
    "\n",
    "trainer_resnet.plot_train_progress()\n",
    "print(\"Train time:\\t\", trainer_resnet.train_time, \"[sec]\")"
   ]
  },
  {
   "cell_type": "code",
   "execution_count": 24,
   "id": "59701dec",
   "metadata": {
    "execution": {
     "iopub.execute_input": "2023-05-07T23:52:24.804457Z",
     "iopub.status.busy": "2023-05-07T23:52:24.804012Z",
     "iopub.status.idle": "2023-05-07T23:52:24.969916Z",
     "shell.execute_reply": "2023-05-07T23:52:24.969042Z"
    },
    "papermill": {
     "duration": 0.727442,
     "end_time": "2023-05-07T23:52:24.971955",
     "exception": false,
     "start_time": "2023-05-07T23:52:24.244513",
     "status": "completed"
    },
    "tags": []
   },
   "outputs": [],
   "source": [
    "resnet34 = trainer_resnet.model.cpu()\n",
    "torch.cuda.empty_cache()"
   ]
  },
  {
   "cell_type": "markdown",
   "id": "910a228a",
   "metadata": {
    "papermill": {
     "duration": 0.619275,
     "end_time": "2023-05-07T23:52:26.167865",
     "exception": false,
     "start_time": "2023-05-07T23:52:25.548590",
     "status": "completed"
    },
    "tags": []
   },
   "source": [
    "## <a id='toc7_3_'></a>[EfficientNet](#toc0_)"
   ]
  },
  {
   "cell_type": "code",
   "execution_count": 25,
   "id": "e7f32d18",
   "metadata": {
    "execution": {
     "iopub.execute_input": "2023-05-07T23:52:27.449799Z",
     "iopub.status.busy": "2023-05-07T23:52:27.449457Z",
     "iopub.status.idle": "2023-05-07T23:52:27.464993Z",
     "shell.execute_reply": "2023-05-07T23:52:27.464108Z"
    },
    "papermill": {
     "duration": 0.739865,
     "end_time": "2023-05-07T23:52:27.466848",
     "exception": false,
     "start_time": "2023-05-07T23:52:26.726983",
     "status": "completed"
    },
    "tags": []
   },
   "outputs": [],
   "source": [
    "criterion = nn.CrossEntropyLoss()\n",
    "optimizer = optim.SGD(efficientnet.parameters(), lr=0.001, momentum=0.9)\n",
    "\n",
    "trainer_efficientnet = Trainer(\n",
    "    model=efficientnet,\n",
    "    train_data_loader=datamodule.dataloaders.train,\n",
    "    val_data_loader=datamodule.dataloaders.val,\n",
    "    criterion=criterion,\n",
    "    optimizer=optimizer,\n",
    "    num_epochs=1,\n",
    "    resume=False,\n",
    "    checkpoint_dir=\"/kaggle/working/ckpt/efficientnet/\",\n",
    ")"
   ]
  },
  {
   "cell_type": "code",
   "execution_count": 26,
   "id": "6b139ea3",
   "metadata": {
    "execution": {
     "iopub.execute_input": "2023-05-07T23:52:28.593141Z",
     "iopub.status.busy": "2023-05-07T23:52:28.592778Z",
     "iopub.status.idle": "2023-05-08T00:08:40.457021Z",
     "shell.execute_reply": "2023-05-08T00:08:40.455981Z"
    },
    "papermill": {
     "duration": 972.433791,
     "end_time": "2023-05-08T00:08:40.459043",
     "exception": false,
     "start_time": "2023-05-07T23:52:28.025252",
     "status": "completed"
    },
    "tags": []
   },
   "outputs": [
    {
     "name": "stderr",
     "output_type": "stream",
     "text": [
      "Compute efficiency: 0.99, loss: 0.06,  acc: 86.41,  epoch: 0/1: 100%|██████████| 2609/2609 [16:10<00:00,  2.69it/s]\n",
      "100%|██████████| 1/1 [00:00<00:00,  2.33it/s]\n"
     ]
    },
    {
     "name": "stdout",
     "output_type": "stream",
     "text": [
      "Accuracy on validation set: 100.00\n",
      "checkpoint is saved at /kaggle/working/ckpt/efficientnet/ckpt.pt!\n",
      "Train time:\t 971.5122058391571 [sec]\n"
     ]
    },
    {
     "data": {
      "image/png": "[encoded data removed]",
      "text/plain": [
       "<Figure size 640x480 with 2 Axes>"
      ]
     },
     "metadata": {},
     "output_type": "display_data"
    }
   ],
   "source": [
    "trainer_efficientnet.train()\n",
    "\n",
    "trainer_efficientnet.plot_train_progress()\n",
    "print(\"Train time:\\t\", trainer_efficientnet.train_time, \"[sec]\")"
   ]
  },
  {
   "cell_type": "code",
   "execution_count": 27,
   "id": "76e5250a",
   "metadata": {
    "execution": {
     "iopub.execute_input": "2023-05-08T00:08:42.235018Z",
     "iopub.status.busy": "2023-05-08T00:08:42.234657Z",
     "iopub.status.idle": "2023-05-08T00:08:42.454994Z",
     "shell.execute_reply": "2023-05-08T00:08:42.454087Z"
    },
    "papermill": {
     "duration": 1.141315,
     "end_time": "2023-05-08T00:08:42.457230",
     "exception": false,
     "start_time": "2023-05-08T00:08:41.315915",
     "status": "completed"
    },
    "tags": []
   },
   "outputs": [],
   "source": [
    "efficientnet = trainer_efficientnet.model.cpu()\n",
    "torch.cuda.empty_cache()"
   ]
  },
  {
   "cell_type": "markdown",
   "id": "3436d0b2",
   "metadata": {
    "papermill": {
     "duration": 0.857895,
     "end_time": "2023-05-08T00:08:44.228660",
     "exception": false,
     "start_time": "2023-05-08T00:08:43.370765",
     "status": "completed"
    },
    "tags": []
   },
   "source": [
    "# <a id='toc8_'></a>[Evaluation after training](#toc0_)"
   ]
  },
  {
   "cell_type": "code",
   "execution_count": 28,
   "id": "d996280e",
   "metadata": {
    "_cell_guid": "f8d905fe-9f7f-484b-b926-9931ca887e34",
    "_uuid": "2803b24b7002a785833d300413e3bd8891f398f9",
    "execution": {
     "iopub.execute_input": "2023-05-08T00:08:46.093865Z",
     "iopub.status.busy": "2023-05-08T00:08:46.093306Z",
     "iopub.status.idle": "2023-05-08T00:08:53.060562Z",
     "shell.execute_reply": "2023-05-08T00:08:53.059331Z"
    },
    "papermill": {
     "duration": 7.897338,
     "end_time": "2023-05-08T00:08:53.062967",
     "exception": false,
     "start_time": "2023-05-08T00:08:45.165629",
     "status": "completed"
    },
    "tags": []
   },
   "outputs": [
    {
     "name": "stdout",
     "output_type": "stream",
     "text": [
      "Evaluating model\n",
      "----------\n",
      "Test batch 30/31,  Avg loss (test): 0.0009,  Avg acc (test): 0.9938\n",
      "==========\n",
      "Evaluation completed in 0m 7s\n",
      "Avg loss (test): 0.0009\n",
      "Avg acc (test): 0.9938\n",
      "----------\n"
     ]
    }
   ],
   "source": [
    "evaltools_vgg.eval_model()"
   ]
  },
  {
   "cell_type": "code",
   "execution_count": 29,
   "id": "9561d797",
   "metadata": {
    "_cell_guid": "c3f7f06c-97fe-4f8e-8b47-f512d4989ecb",
    "_uuid": "4f2ed1c58098075949f93eadc7ba3b5786c7b307",
    "execution": {
     "iopub.execute_input": "2023-05-08T00:08:54.886563Z",
     "iopub.status.busy": "2023-05-08T00:08:54.886194Z",
     "iopub.status.idle": "2023-05-08T00:09:00.560490Z",
     "shell.execute_reply": "2023-05-08T00:09:00.558580Z"
    },
    "executionInfo": {
     "elapsed": 4437,
     "status": "ok",
     "timestamp": 1525025142751,
     "user": {
      "displayName": "Carlo Alberto",
      "photoUrl": "//lh5.googleusercontent.com/-_sBZsyc315U/AAAAAAAAAAI/AAAAAAAAAgg/b4D9SE9jgD0/s50-c-k-no/photo.jpg",
      "userId": "107843268563316278814"
     },
     "user_tz": -120
    },
    "id": "hGLvyjZ2whe0",
    "outputId": "497f6621-ee2c-43a5-9b54-917bbbe9b22c",
    "papermill": {
     "duration": 6.58947,
     "end_time": "2023-05-08T00:09:00.562630",
     "exception": false,
     "start_time": "2023-05-08T00:08:53.973160",
     "status": "completed"
    },
    "tags": []
   },
   "outputs": [
    {
     "name": "stdout",
     "output_type": "stream",
     "text": [
      "Evaluating model\n",
      "----------\n",
      "Test batch 30/31,  Avg loss (test): 0.0020,  Avg acc (test): 0.9812\n",
      "==========\n",
      "Evaluation completed in 0m 6s\n",
      "Avg loss (test): 0.0021\n",
      "Avg acc (test): 0.9814\n",
      "----------\n"
     ]
    }
   ],
   "source": [
    "evaltools_resnet.eval_model()"
   ]
  },
  {
   "cell_type": "code",
   "execution_count": 30,
   "id": "019ba830",
   "metadata": {
    "execution": {
     "iopub.execute_input": "2023-05-08T00:09:02.327862Z",
     "iopub.status.busy": "2023-05-08T00:09:02.327489Z",
     "iopub.status.idle": "2023-05-08T00:09:09.421245Z",
     "shell.execute_reply": "2023-05-08T00:09:09.420041Z"
    },
    "papermill": {
     "duration": 8.031277,
     "end_time": "2023-05-08T00:09:09.423443",
     "exception": false,
     "start_time": "2023-05-08T00:09:01.392166",
     "status": "completed"
    },
    "tags": []
   },
   "outputs": [
    {
     "name": "stdout",
     "output_type": "stream",
     "text": [
      "Evaluating model\n",
      "----------\n",
      "Test batch 30/31,  Avg loss (test): 0.0008,  Avg acc (test): 0.9938\n",
      "==========\n",
      "Evaluation completed in 0m 7s\n",
      "Avg loss (test): 0.0008\n",
      "Avg acc (test): 0.9938\n",
      "----------\n"
     ]
    }
   ],
   "source": [
    "evaltools_efficientnet.eval_model()"
   ]
  },
  {
   "cell_type": "markdown",
   "id": "70c4f70a",
   "metadata": {
    "papermill": {
     "duration": 0.907784,
     "end_time": "2023-05-08T00:09:11.173009",
     "exception": false,
     "start_time": "2023-05-08T00:09:10.265225",
     "status": "completed"
    },
    "tags": []
   },
   "source": [
    "# <a id='toc9_'></a>[Summary](#toc0_)"
   ]
  },
  {
   "cell_type": "code",
   "execution_count": 31,
   "id": "038d0442",
   "metadata": {
    "execution": {
     "iopub.execute_input": "2023-05-08T00:09:12.912754Z",
     "iopub.status.busy": "2023-05-08T00:09:12.912386Z",
     "iopub.status.idle": "2023-05-08T00:09:13.010089Z",
     "shell.execute_reply": "2023-05-08T00:09:13.009204Z"
    },
    "papermill": {
     "duration": 0.994953,
     "end_time": "2023-05-08T00:09:13.012734",
     "exception": false,
     "start_time": "2023-05-08T00:09:12.017781",
     "status": "completed"
    },
    "tags": []
   },
   "outputs": [
    {
     "data": {
      "text/html": [
       "<div>\n",
       "<style scoped>\n",
       "    .dataframe tbody tr th:only-of-type {\n",
       "        vertical-align: middle;\n",
       "    }\n",
       "\n",
       "    .dataframe tbody tr th {\n",
       "        vertical-align: top;\n",
       "    }\n",
       "\n",
       "    .dataframe thead th {\n",
       "        text-align: right;\n",
       "    }\n",
       "</style>\n",
       "<table border=\"1\" class=\"dataframe\">\n",
       "  <thead>\n",
       "    <tr style=\"text-align: right;\">\n",
       "      <th></th>\n",
       "      <th>n_params</th>\n",
       "      <th>train_time</th>\n",
       "      <th>test_acc</th>\n",
       "    </tr>\n",
       "    <tr>\n",
       "      <th>model</th>\n",
       "      <th></th>\n",
       "      <th></th>\n",
       "      <th></th>\n",
       "    </tr>\n",
       "  </thead>\n",
       "  <tbody>\n",
       "    <tr>\n",
       "      <th>VGG11</th>\n",
       "      <td>128M</td>\n",
       "      <td>764.390635</td>\n",
       "      <td>0.993802</td>\n",
       "    </tr>\n",
       "    <tr>\n",
       "      <th>ResNet34</th>\n",
       "      <td>21M</td>\n",
       "      <td>626.469555</td>\n",
       "      <td>0.981405</td>\n",
       "    </tr>\n",
       "    <tr>\n",
       "      <th>EfficientNet_V2</th>\n",
       "      <td>20M</td>\n",
       "      <td>971.512206</td>\n",
       "      <td>0.993802</td>\n",
       "    </tr>\n",
       "  </tbody>\n",
       "</table>\n",
       "</div>"
      ],
      "text/plain": [
       "                n_params  train_time  test_acc\n",
       "model                                         \n",
       "VGG11               128M  764.390635  0.993802\n",
       "ResNet34             21M  626.469555  0.981405\n",
       "EfficientNet_V2      20M  971.512206  0.993802"
      ]
     },
     "execution_count": 31,
     "metadata": {},
     "output_type": "execute_result"
    }
   ],
   "source": [
    "df_summary = pd.DataFrame({\n",
    "    \"model\": [\"VGG11\", \"ResNet34\", \"EfficientNet_V2\"],\n",
    "    \"n_params\": [\"128M\", \"21M\", \"20M\"],\n",
    "    \"train_time\": [trainer_vgg.train_time, trainer_resnet.train_time, trainer_efficientnet.train_time],\n",
    "    \"test_acc\": [evaltools_vgg.avg_acc, evaltools_resnet.avg_acc, evaltools_efficientnet.avg_acc],\n",
    "}).set_index(\"model\")\n",
    "\n",
    "df_summary"
   ]
  },
  {
   "cell_type": "code",
   "execution_count": null,
   "id": "12c6d276",
   "metadata": {
    "papermill": {
     "duration": 0.919882,
     "end_time": "2023-05-08T00:09:14.890912",
     "exception": false,
     "start_time": "2023-05-08T00:09:13.971030",
     "status": "completed"
    },
    "tags": []
   },
   "outputs": [],
   "source": []
  }
 ],
 "metadata": {
  "kernelspec": {
   "display_name": "Python 3",
   "language": "python",
   "name": "python3"
  },
  "language_info": {
   "codemirror_mode": {
    "name": "ipython",
    "version": 3
   },
   "file_extension": ".py",
   "mimetype": "text/x-python",
   "name": "python",
   "nbconvert_exporter": "python",
   "pygments_lexer": "ipython3",
   "version": "3.10.10"
  },
  "papermill": {
   "default_parameters": {},
   "duration": 2557.207615,
   "end_time": "2023-05-08T00:09:19.024753",
   "environment_variables": {},
   "exception": null,
   "input_path": "__notebook__.ipynb",
   "output_path": "__notebook__.ipynb",
   "parameters": {},
   "start_time": "2023-05-07T23:26:41.817138",
   "version": "2.4.0"
  }
 },
 "nbformat": 4,
 "nbformat_minor": 5
}
